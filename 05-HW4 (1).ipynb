{
 "cells": [
  {
   "cell_type": "markdown",
   "id": "b6249847-cddc-4576-be24-317bbbbb40a9",
   "metadata": {},
   "source": [
    "**Q1** Implement the six functions defined in the code editor.\n",
    "\n",
    "- check_equal(x, y) should return whether x is equal to y.\n",
    "- check_not_equal(x, y) should return whether x is not equal to y.\n",
    "- check_less_than(x, y) should return whether x is less than y.\n",
    "- check_greater_than(x, y) should return whether x is greater than y.\n",
    "- check_less_than_or_equal(x, y) should return whether x is less than or equal to y.\n",
    "- check_greater_than_or_equal(x, y) should return whether x is greater than or equal to y.\n",
    "\n",
    "You may assume your functions will only receive integers as input.\n",
    "\n"
   ]
  },
  {
   "cell_type": "code",
   "execution_count": 80,
   "id": "848f7d25-d136-4e89-94d2-a7d42e3fd3f5",
   "metadata": {},
   "outputs": [],
   "source": [
    "def check_equal(x, y):\n",
    "    return x == y\n",
    "def  check_less_than(x, y):\n",
    "    return x < y\n",
    "def  check_greater_than(x, y):\n",
    "    return x > y  \n",
    "def check_less_than_or_equal(x, y):\n",
    "    return x <= y\n",
    "def check_greater_than_or_equal(x, y):\n",
    "    return x >= y\n",
    "        \n",
    "       "
   ]
  },
  {
   "cell_type": "code",
   "execution_count": 143,
   "id": "b545c804-3225-4342-a13f-813a70614104",
   "metadata": {},
   "outputs": [
    {
     "name": "stdout",
     "output_type": "stream",
     "text": [
      "True\n",
      "True\n",
      "False\n",
      "True\n",
      "False\n"
     ]
    }
   ],
   "source": [
    "print(check_equal(0,0))\n",
    "print(check_equal(-1,-1))\n",
    "print(check_equal(7,0))\n",
    "print(check_less_than(7,8)) #True\n",
    "print(check_less_than(8,8)) # False\n"
   ]
  },
  {
   "cell_type": "markdown",
   "id": "8ede5e9b-619d-4490-821b-72d91f37c8fd",
   "metadata": {},
   "source": [
    "**Q2** Implement the `is_balance_low(balance)` function.\\\n",
    "If the balance is less than or equal to 100, it should\\\n",
    "print `\"Warning: Low balance.\"`. Otherwise, it should not print anything."
   ]
  },
  {
   "cell_type": "code",
   "execution_count": 74,
   "id": "e52c7e92-a2a4-4598-abf4-05cb2c6600b8",
   "metadata": {},
   "outputs": [],
   "source": [
    "def is_balance_low(balance):\n",
    "\n",
    "    if balance <= 100:\n",
    "\n",
    "        message = \"Warning: Low balance.\"\n",
    "\n",
    "        print(message)\n"
   ]
  },
  {
   "cell_type": "code",
   "execution_count": 70,
   "id": "0c2d4881-2e8a-44b8-95b7-cdca5ced67dc",
   "metadata": {},
   "outputs": [
    {
     "name": "stdout",
     "output_type": "stream",
     "text": [
      "Warning: Low balance.\n"
     ]
    }
   ],
   "source": [
    "is_balance_low(50)"
   ]
  },
  {
   "cell_type": "code",
   "execution_count": 78,
   "id": "ebf5bb19-9d3c-4379-8463-5d9f094d0a44",
   "metadata": {},
   "outputs": [],
   "source": [
    "is_balance_low(330)"
   ]
  },
  {
   "cell_type": "code",
   "execution_count": 145,
   "id": "2b8fc9fc-5f46-428b-958e-9221ee571f7e",
   "metadata": {},
   "outputs": [
    {
     "name": "stdout",
     "output_type": "stream",
     "text": [
      "Warning: Low balance.\n"
     ]
    }
   ],
   "source": [
    "is_balance_low(100)"
   ]
  },
  {
   "cell_type": "markdown",
   "id": "4fe934ab-cb5d-4dec-b082-90d163d82bc3",
   "metadata": {},
   "source": [
    "**Q3** Implement the `pay_bill(balance, bill)`function.\\\n",
    "It accepts two parameters, `balance` and `bill`, where\\\n",
    "balance is the current account balance and bill is\\\n",
    "the amount of the bill that needs to be paid.\n",
    "\n",
    "If the balance is greater than or equal to the bill,\\\n",
    "the function should return the new balance after\\\n",
    "subtracting the bill from the balance. Otherwise,\\\n",
    "the function should return the balance without making any changes."
   ]
  },
  {
   "cell_type": "code",
   "execution_count": 147,
   "id": "d7da5c9f-a0f1-48b6-9946-0280219d7aff",
   "metadata": {},
   "outputs": [],
   "source": [
    "def pay_bill(balance, bill):\n",
    "    if balance >= bill:\n",
    "        return balance - bill\n",
    "    else:\n",
    "        return balance\n",
    "    "
   ]
  },
  {
   "cell_type": "code",
   "execution_count": 151,
   "id": "90138057-1e6b-4761-bf8d-40c73c71e061",
   "metadata": {},
   "outputs": [
    {
     "name": "stdout",
     "output_type": "stream",
     "text": [
      "30\n",
      "0\n",
      "40\n"
     ]
    }
   ],
   "source": [
    "print(pay_bill(100,70))\n",
    "print(pay_bill(50,50))\n",
    "print(pay_bill(40,50))"
   ]
  },
  {
   "cell_type": "markdown",
   "id": "2393f2dd-6c79-4148-b36d-e72fd3f7b930",
   "metadata": {},
   "source": [
    "**Q4** Implement the `get_min(a, b`  function in the code editor.\\\n",
    "It should return the minimum of a and b. If they are equal,\\\n",
    "it doesn't matter which value you return."
   ]
  },
  {
   "cell_type": "code",
   "execution_count": 157,
   "id": "db046e90-8293-49e3-a79d-12895471dae8",
   "metadata": {},
   "outputs": [],
   "source": [
    "def get_min(a, b):\n",
    "    if a < b:\n",
    "        return a\n",
    "    elif b < a:\n",
    "        return b\n",
    "    else :\n",
    "        return a"
   ]
  },
  {
   "cell_type": "code",
   "execution_count": 159,
   "id": "7890201d-ec19-499a-94c2-4c8439445663",
   "metadata": {},
   "outputs": [
    {
     "name": "stdout",
     "output_type": "stream",
     "text": [
      "3\n",
      "4\n",
      "4\n"
     ]
    }
   ],
   "source": [
    "print(get_min(3,5))\n",
    "print(get_min(4,4))\n",
    "print(get_min(7,4))"
   ]
  },
  {
   "cell_type": "markdown",
   "id": "de79a207-e832-4596-852f-832fc90b663a",
   "metadata": {},
   "source": [
    "**Q5**  Using `if`, `elif` and `else`, implement\\\n",
    "the function called c`heck_range(num)`.\n",
    "\n",
    "- If num is less than 0, return the string \"negative\".\n",
    "- If num is 0 return the string \"zero\".\n",
    "- If num is greater than 0 and less than 10, return the string \"positive single digit\".\n",
    "- If num is greater than or equal to 10, return the string \"positive multi digit\".\n"
   ]
  },
  {
   "cell_type": "code",
   "execution_count": 39,
   "id": "f5b3e4ee-7c7f-49d7-b7b4-8188d7386fc4",
   "metadata": {},
   "outputs": [],
   "source": [
    "def check_range(num):\n",
    "    if num < 0:\n",
    "        return \"negative\"\n",
    "    elif num == 0:\n",
    "        return \"zero\"\n",
    "    elif num > 0 and num < 10:\n",
    "        return \"positive single digit\"\n",
    "    else: \n",
    "        return \"positive multi digit\"\n",
    "        \n",
    "    \n"
   ]
  },
  {
   "cell_type": "code",
   "execution_count": 53,
   "id": "e1082ac1-681b-4993-92bf-ca9a96bb76d5",
   "metadata": {},
   "outputs": [
    {
     "name": "stdout",
     "output_type": "stream",
     "text": [
      "positive single digit\n",
      "positive multi digit\n",
      "zero\n",
      "negative\n",
      "positive multi digit\n",
      "positive single digit\n"
     ]
    }
   ],
   "source": [
    "print(check_range(5))\n",
    "print(check_range(25))\n",
    "print(check_range(0))\n",
    "print(check_range(-1))\n",
    "print(check_range(10))\n",
    "print(check_range(9))"
   ]
  },
  {
   "cell_type": "markdown",
   "id": "8de62094-b4c5-4baa-a6d5-e6e753b60aec",
   "metadata": {},
   "source": [
    "**Q6** Implement the `discount_applies(age)` function.\\\n",
    "It accepts an integer age and should return `True`\\\n",
    "if the age is less than 18, or the age is greater\\\n",
    "than or equal to 65. Otherwise, it should return `False`."
   ]
  },
  {
   "cell_type": "code",
   "execution_count": 29,
   "id": "1da7412c-6546-457d-8efc-bd046de159cc",
   "metadata": {},
   "outputs": [],
   "source": [
    "# NEEDS to return a booleadn (yani True or False), not print something.\n",
    "def discount_applies(age):\n",
    "    return age < 18 or age >= 65\n",
    "    \n",
    "    "
   ]
  },
  {
   "cell_type": "code",
   "execution_count": 35,
   "id": "e3b06c6b-98df-4577-9a8d-e0cf70863337",
   "metadata": {},
   "outputs": [
    {
     "name": "stdout",
     "output_type": "stream",
     "text": [
      "False\n",
      "True\n",
      "False\n"
     ]
    }
   ],
   "source": [
    "#TESTS\n",
    "print(discount_applies(18))\n",
    "print(discount_applies(70))\n",
    "print(discount_applies(45))"
   ]
  },
  {
   "cell_type": "markdown",
   "id": "67653e9b-ad02-4ca4-b307-b97c184a7b42",
   "metadata": {},
   "source": [
    "**Q7** Implement the function `is_truthy()` that returns `\"Truthy\"`\\\n",
    "if the value is truthy, and returns `\"Falsy\"` if the value is falsy.\\\n",
    "The parameter value can be any type of value."
   ]
  },
  {
   "cell_type": "code",
   "execution_count": 3,
   "id": "8386f2bb-edfe-4564-9605-7ac35713b392",
   "metadata": {},
   "outputs": [],
   "source": [
    "def is_truthy(value):\n",
    "    if value:\n",
    "        return \"Truthy\"\n",
    "    else:\n",
    "        return \"Falsy\"\n",
    "        "
   ]
  },
  {
   "cell_type": "code",
   "execution_count": 5,
   "id": "12cbb649-11c6-4f2c-9f6d-dc07bd857313",
   "metadata": {},
   "outputs": [
    {
     "name": "stdout",
     "output_type": "stream",
     "text": [
      "Truthy\n",
      "Truthy\n",
      "Falsy\n",
      "Falsy\n"
     ]
    }
   ],
   "source": [
    "print(is_truthy(10))\n",
    "print(is_truthy(\" \"))\n",
    "print(is_truthy(\"\"))\n",
    "print(is_truthy(0))"
   ]
  },
  {
   "cell_type": "code",
   "execution_count": null,
   "id": "4109e00f-3a24-4513-a4e4-145678fed7f5",
   "metadata": {},
   "outputs": [],
   "source": []
  }
 ],
 "metadata": {
  "kernelspec": {
   "display_name": "Python 3 (ipykernel)",
   "language": "python",
   "name": "python3"
  },
  "language_info": {
   "codemirror_mode": {
    "name": "ipython",
    "version": 3
   },
   "file_extension": ".py",
   "mimetype": "text/x-python",
   "name": "python",
   "nbconvert_exporter": "python",
   "pygments_lexer": "ipython3",
   "version": "3.12.4"
  }
 },
 "nbformat": 4,
 "nbformat_minor": 5
}
