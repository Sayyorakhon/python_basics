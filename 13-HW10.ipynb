{
 "cells": [
  {
   "cell_type": "markdown",
   "id": "a3276ba5-ef4c-41a7-a0ab-44dfc9631ba1",
   "metadata": {},
   "source": [
    "**Q1** Implement a function called `read_and_print_input()`.\\\n",
    "It should read a single line of input from the console\\\n",
    "and print it to the console. The prompt it should provide\\\n",
    "is `\"Reading one line of text into a string: \"`. Note that\\\n",
    "there is a space after the colon.\n",
    "\n",
    "Call your function exactly 2 times."
   ]
  },
  {
   "cell_type": "code",
   "execution_count": 25,
   "id": "e661c846-2a5e-441b-9962-a5edd2b81521",
   "metadata": {},
   "outputs": [
    {
     "name": "stdin",
     "output_type": "stream",
     "text": [
      "Reading one line of text into a string:  Text\n"
     ]
    },
    {
     "name": "stdout",
     "output_type": "stream",
     "text": [
      "Text\n"
     ]
    },
    {
     "name": "stdin",
     "output_type": "stream",
     "text": [
      "Reading one line of text into a string:  message\n"
     ]
    },
    {
     "name": "stdout",
     "output_type": "stream",
     "text": [
      "message\n"
     ]
    }
   ],
   "source": [
    "def read_and_print_input() -> None:\n",
    "    i = input(\"Reading one line of text into a string: \")\n",
    "    print(i)    \n",
    "read_and_print_input()\n",
    "read_and_print_input()"
   ]
  },
  {
   "cell_type": "markdown",
   "id": "d5974aac-95d6-4541-a162-582d02b0c404",
   "metadata": {},
   "source": [
    "**Q2** Implement the following two functions:\n",
    "\n",
    "- `read_integer():` This function should read an integer from the\\\n",
    "   user and return it. The prompt should be empty.\n",
    "- `read_float():` This function should read a floating point number\\\n",
    "   from the user and return it. The prompt should be empty.\n"
   ]
  },
  {
   "cell_type": "code",
   "execution_count": 27,
   "id": "0d7b1b5d-863e-44c1-b269-cc03a6ac6e84",
   "metadata": {},
   "outputs": [
    {
     "name": "stdin",
     "output_type": "stream",
     "text": [
      "Enter your age: 31\n"
     ]
    },
    {
     "name": "stdout",
     "output_type": "stream",
     "text": [
      "31\n"
     ]
    },
    {
     "name": "stdin",
     "output_type": "stream",
     "text": [
      "Enter your age: 17\n"
     ]
    },
    {
     "name": "stdout",
     "output_type": "stream",
     "text": [
      "17\n"
     ]
    },
    {
     "name": "stdin",
     "output_type": "stream",
     "text": [
      "Enter your age: 45\n"
     ]
    },
    {
     "name": "stdout",
     "output_type": "stream",
     "text": [
      "45\n"
     ]
    },
    {
     "name": "stdin",
     "output_type": "stream",
     "text": [
      "Enter the price: 0.99\n"
     ]
    },
    {
     "name": "stdout",
     "output_type": "stream",
     "text": [
      "0.99\n"
     ]
    },
    {
     "name": "stdin",
     "output_type": "stream",
     "text": [
      "Enter the price: 1.99\n"
     ]
    },
    {
     "name": "stdout",
     "output_type": "stream",
     "text": [
      "1.99\n"
     ]
    },
    {
     "name": "stdin",
     "output_type": "stream",
     "text": [
      "Enter the price: 5.99\n"
     ]
    },
    {
     "name": "stdout",
     "output_type": "stream",
     "text": [
      "5.99\n"
     ]
    }
   ],
   "source": [
    "def read_integer() -> int: \n",
    "    age = int(input(\"Enter your age:\"))\n",
    "    return age\n",
    "\n",
    "def read_float() -> float:\n",
    "    cent = float(input(\"Enter the price:\"))\n",
    "    return cent\n",
    "   \n",
    "\n",
    "# do not modify below this line\n",
    "print(read_integer())\n",
    "print(read_integer())\n",
    "print(read_integer())\n",
    "\n",
    "print(read_float())\n",
    "print(read_float())\n",
    "print(read_float())\n"
   ]
  },
  {
   "cell_type": "markdown",
   "id": "7b77b394",
   "metadata": {},
   "source": [
    "**Q3** Implement the `read_integers()` function. It should read a \\\n",
    "line from stdin, without printing anything, and return a list\\\n",
    " of integers. You may assume every line will be in the following format,\\\n",
    "  where the numbers are separated by commas: `1,2,3,4,5`\n"
   ]
  },
  {
   "cell_type": "code",
   "execution_count": 81,
   "id": "76aae724-8570-4b19-b922-0801b05570d1",
   "metadata": {},
   "outputs": [
    {
     "name": "stdin",
     "output_type": "stream",
     "text": [
      "enter a comma separated list of integers. 1,2,3\n"
     ]
    },
    {
     "name": "stdout",
     "output_type": "stream",
     "text": [
      "[1, 2, 3]\n"
     ]
    },
    {
     "name": "stdin",
     "output_type": "stream",
     "text": [
      "enter a comma separated list of integers. 2,3,4,5\n"
     ]
    },
    {
     "name": "stdout",
     "output_type": "stream",
     "text": [
      "[2, 3, 4, 5]\n"
     ]
    },
    {
     "name": "stdin",
     "output_type": "stream",
     "text": [
      "enter a comma separated list of integers. 1\n"
     ]
    },
    {
     "name": "stdout",
     "output_type": "stream",
     "text": [
      "[1]\n"
     ]
    }
   ],
   "source": [
    "from typing import List\n",
    "\n",
    "def read_integers():\n",
    "    numbers = input(\"enter a comma separated list of integers.\")\n",
    "    nlist = [int(x) for x in numbers.split(\",\")]\n",
    "    return nlist\n",
    "\n",
    "# do not modify the code below\n",
    "print(read_integers())\n",
    "print(read_integers())\n",
    "print(read_integers())"
   ]
  },
  {
   "cell_type": "markdown",
   "id": "a03207cc",
   "metadata": {},
   "source": [
    "###### **Q4** Implement the function `add_two_numbers()`. It doesn't have\\\n",
    " any parameters because you will be reading from `stdin`. The\\\n",
    "  function should read one line from stdin, which contains\\\n",
    "   two integers separated by a comma. The function should \\\n",
    "   return the sum of the two integers.\n",
    "\n",
    "The stdin to your program will be:\\\n",
    "\n",
    "1,2\\\n",
    "3,4\\\n",
    "10,25\\\n",
    "1032,1272"
   ]
  },
  {
   "cell_type": "code",
   "execution_count": 73,
   "id": "3dcdb89a",
   "metadata": {},
   "outputs": [
    {
     "name": "stdin",
     "output_type": "stream",
     "text": [
      " 1,2\n"
     ]
    },
    {
     "name": "stdout",
     "output_type": "stream",
     "text": [
      "3\n"
     ]
    },
    {
     "name": "stdin",
     "output_type": "stream",
     "text": [
      " 3,4\n"
     ]
    },
    {
     "name": "stdout",
     "output_type": "stream",
     "text": [
      "7\n"
     ]
    },
    {
     "name": "stdin",
     "output_type": "stream",
     "text": [
      " 10,25\n"
     ]
    },
    {
     "name": "stdout",
     "output_type": "stream",
     "text": [
      "35\n"
     ]
    },
    {
     "name": "stdin",
     "output_type": "stream",
     "text": [
      " 1032,1272\n"
     ]
    },
    {
     "name": "stdout",
     "output_type": "stream",
     "text": [
      "2304\n"
     ]
    }
   ],
   "source": [
    "def add_two_numbers() :\n",
    "    numbers = input()\n",
    "    nlist = [int(x) for x in numbers.split(\",\")]\n",
    "    return sum(nlist)\n",
    "\n",
    "# do not modify below this line\n",
    "print(add_two_numbers())\n",
    "print(add_two_numbers())\n",
    "print(add_two_numbers())\n",
    "print(add_two_numbers())"
   ]
  },
  {
   "cell_type": "code",
   "execution_count": null,
   "id": "365952b7-2bc5-4b19-9eca-0e69c476b95c",
   "metadata": {},
   "outputs": [],
   "source": []
  },
  {
   "cell_type": "code",
   "execution_count": null,
   "id": "28505443-a66f-438a-9002-f63def8d8fde",
   "metadata": {},
   "outputs": [],
   "source": []
  }
 ],
 "metadata": {
  "kernelspec": {
   "display_name": "Python 3 (ipykernel)",
   "language": "python",
   "name": "python3"
  },
  "language_info": {
   "codemirror_mode": {
    "name": "ipython",
    "version": 3
   },
   "file_extension": ".py",
   "mimetype": "text/x-python",
   "name": "python",
   "nbconvert_exporter": "python",
   "pygments_lexer": "ipython3",
   "version": "3.12.4"
  }
 },
 "nbformat": 4,
 "nbformat_minor": 5
}
