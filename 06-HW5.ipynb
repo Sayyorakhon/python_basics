{
 "cells": [
  {
   "cell_type": "markdown",
   "id": "92525a92-7984-4d6d-a499-8d841d41b154",
   "metadata": {},
   "source": [
    "**Q1**: Use a loop to print \"I know how to use while loops\" exactly 12 times."
   ]
  },
  {
   "cell_type": "code",
   "execution_count": 1,
   "id": "2897c719-96f6-4828-bae4-368ceed33f3d",
   "metadata": {},
   "outputs": [
    {
     "name": "stdout",
     "output_type": "stream",
     "text": [
      "I know how to use while loops\n",
      "I know how to use while loops\n",
      "I know how to use while loops\n",
      "I know how to use while loops\n",
      "I know how to use while loops\n",
      "I know how to use while loops\n",
      "I know how to use while loops\n",
      "I know how to use while loops\n",
      "I know how to use while loops\n",
      "I know how to use while loops\n",
      "I know how to use while loops\n",
      "I know how to use while loops\n"
     ]
    }
   ],
   "source": [
    "i = 0\n",
    "while i < 12:\n",
    "    print(\"I know how to use while loops\")\n",
    "    i += 1"
   ]
  },
  {
   "cell_type": "code",
   "execution_count": null,
   "id": "fe8047d5-8fac-49a0-9411-aafde96b8a85",
   "metadata": {},
   "outputs": [],
   "source": []
  },
  {
   "cell_type": "markdown",
   "id": "265182d9-7484-45f2-908b-aace630b4f71",
   "metadata": {},
   "source": [
    "**Q2**: Can you use a while loop to print the\\\n",
    "digits from 0 to 9 in order (including 0 and 9)?\\\n",
    "Your loop should execute 10 times.\n"
   ]
  },
  {
   "cell_type": "code",
   "execution_count": 17,
   "id": "c8ac4534-ec2d-40c5-9473-c1583be4fc3e",
   "metadata": {},
   "outputs": [
    {
     "name": "stdout",
     "output_type": "stream",
     "text": [
      "0\n",
      "1\n",
      "2\n",
      "3\n",
      "4\n",
      "5\n",
      "6\n",
      "7\n",
      "8\n",
      "9\n"
     ]
    }
   ],
   "source": [
    "i = 0\n",
    "while i < 10:\n",
    "    print(i)\n",
    "    i += 1"
   ]
  },
  {
   "cell_type": "markdown",
   "id": "6c079f61-2730-479b-a450-2d9597121f62",
   "metadata": {},
   "source": [
    "**Q3** Can you use a while loop to print all multiples of 10 from 10 to 90 in order (including 10 and 90)?"
   ]
  },
  {
   "cell_type": "code",
   "execution_count": 21,
   "id": "d4745404-d4c4-4426-b774-5fe128f32d74",
   "metadata": {},
   "outputs": [
    {
     "name": "stdout",
     "output_type": "stream",
     "text": [
      "10\n",
      "20\n",
      "30\n",
      "40\n",
      "50\n",
      "60\n",
      "70\n",
      "80\n",
      "90\n"
     ]
    }
   ],
   "source": [
    "i = 10\n",
    "while i < 100:\n",
    "    print(i)\n",
    "    i += 10"
   ]
  },
  {
   "cell_type": "markdown",
   "id": "5da98060-299b-4ab8-809f-bcb7e79482f3",
   "metadata": {},
   "source": [
    "**Q4** Using a for loop, print the numbers 0 through 12, in order, including 0 and 12."
   ]
  },
  {
   "cell_type": "code",
   "execution_count": 23,
   "id": "abcfdae3-7ab0-4bbf-8a1a-06e3e42ace0f",
   "metadata": {},
   "outputs": [
    {
     "name": "stdout",
     "output_type": "stream",
     "text": [
      "0\n",
      "1\n",
      "2\n",
      "3\n",
      "4\n",
      "5\n",
      "6\n",
      "7\n",
      "8\n",
      "9\n",
      "10\n",
      "11\n",
      "12\n"
     ]
    }
   ],
   "source": [
    "for i in range(13):\n",
    "    print(i)"
   ]
  },
  {
   "cell_type": "markdown",
   "id": "6b87fa60-2b32-4690-95f1-5fd2176df643",
   "metadata": {},
   "source": [
    "**Q5** Using a for loop, print the numbers 10 through 20, in order, including 10 and 20."
   ]
  },
  {
   "cell_type": "code",
   "execution_count": 25,
   "id": "f8e84473-fceb-42bc-a074-8b9ef584a3ef",
   "metadata": {},
   "outputs": [
    {
     "name": "stdout",
     "output_type": "stream",
     "text": [
      "10\n",
      "11\n",
      "12\n",
      "13\n",
      "14\n",
      "15\n",
      "16\n",
      "17\n",
      "18\n",
      "19\n",
      "20\n"
     ]
    }
   ],
   "source": [
    "for i in range(10,21):\n",
    "    print(i)\n",
    "    "
   ]
  },
  {
   "cell_type": "markdown",
   "id": "9f496a75-6b06-4c70-9b50-2ae257d21edb",
   "metadata": {},
   "source": [
    "**Q6** Using a for loop, print all multiples of 10 from 0 to 100, in order, including 0 and 100."
   ]
  },
  {
   "cell_type": "code",
   "execution_count": 31,
   "id": "27830646-c091-4140-a809-018f64cf3a20",
   "metadata": {},
   "outputs": [
    {
     "name": "stdout",
     "output_type": "stream",
     "text": [
      "0\n",
      "10\n",
      "20\n",
      "30\n",
      "40\n",
      "50\n",
      "60\n",
      "70\n",
      "80\n",
      "90\n",
      "100\n"
     ]
    }
   ],
   "source": [
    "for i in range(0, 101, 10):\n",
    "    print(i)"
   ]
  },
  {
   "cell_type": "markdown",
   "id": "200bc0f8-9248-432f-af56-e6cd686ed58f",
   "metadata": {},
   "source": [
    "**Q7** Using a for loop, print the numbers 20 through 10, in reverse order, including 20 and 10."
   ]
  },
  {
   "cell_type": "code",
   "execution_count": 35,
   "id": "baa55e7b-298e-46cc-b841-b5143c932d19",
   "metadata": {},
   "outputs": [
    {
     "name": "stdout",
     "output_type": "stream",
     "text": [
      "20\n",
      "19\n",
      "18\n",
      "17\n",
      "16\n",
      "15\n",
      "14\n",
      "13\n",
      "12\n",
      "11\n",
      "10\n"
     ]
    }
   ],
   "source": [
    "for i in range(20,9, -1):\n",
    "    print(i)"
   ]
  },
  {
   "cell_type": "markdown",
   "id": "442034d4-95fb-45a5-858e-8a0ef5f03cd7",
   "metadata": {},
   "source": [
    "**Q8** Using nested loops, print all pairs of numbers from 3, 4, 5, where the order of each pair matters."
   ]
  },
  {
   "cell_type": "code",
   "execution_count": 37,
   "id": "1f268a36-9c3d-4f57-b6e1-4470cd2a8e30",
   "metadata": {},
   "outputs": [
    {
     "name": "stdout",
     "output_type": "stream",
     "text": [
      "3 3\n",
      "3 4\n",
      "3 5\n",
      "4 3\n",
      "4 4\n",
      "4 5\n",
      "5 3\n",
      "5 4\n",
      "5 5\n"
     ]
    }
   ],
   "source": [
    "for i in range(3, 6):\n",
    "\n",
    "    for j in range(3, 6):\n",
    "\n",
    "        print(i, j)"
   ]
  },
  {
   "cell_type": "code",
   "execution_count": null,
   "id": "4d963339-630c-46b0-a5d3-6eddd3e016b7",
   "metadata": {},
   "outputs": [],
   "source": [
    "opened_file = open('AppleStore.csv')\n",
    "from csv import reader\n",
    "read_file = reader(opened_file)\n",
    "apps_data = list(read_file)\n",
    "\n",
    "free_games_social_ratings = []\n",
    "for row in apps_data[1:]:\n",
    "    rating = float(row[7])\n",
    "    genre = row[11]\n",
    "    price = float(row[4])\n",
    "    \n",
    "    if (genre == 'Social Networking' or genre == 'Games') and price == 0:\n",
    "        free_games_social_ratings.append(rating)\n",
    "        \n",
    "avg_free = sum(free_games_social_ratings) / len(free_games_social_ratings)\n",
    "\n",
    "# Not-free apps (average)\n",
    "not_free_games_social_ratings = []\n",
    "for row in apps_data[1:]:\n",
    "    rating = float(row[7])\n",
    "    genre = row[11]\n",
    "    price = float(row[4])\n",
    "    \n",
    "    if (genre == 'Social Networking' or genre == 'Games') and price != 0:\n",
    "        not_free_games_social_ratings.append(rating)\n",
    "        \n",
    "avg_not_free = sum(not_free_games_social_ratings) / len(not_free_games_social_ratings)"
   ]
  },
  {
   "cell_type": "code",
   "execution_count": null,
   "id": "e5eb648a-7d74-4ba1-a280-3aac477147b3",
   "metadata": {},
   "outputs": [],
   "source": [
    "x = -6\n",
    "y = 14\n",
    "z = 8.5\n",
    "if x > z:\n",
    "    print('x>z')\n",
    "if y != z:\n",
    "    print('y is not equal to z')\n",
    "if x < z and z < y:\n",
    "    print('z is between x and y')"
   ]
  },
  {
   "cell_type": "code",
   "execution_count": 5,
   "id": "54fe3424-7235-430a-a4cd-753c32663601",
   "metadata": {},
   "outputs": [
    {
     "name": "stdout",
     "output_type": "stream",
     "text": [
      "{'a': 1, 'b': 1, 'c': 1}\n"
     ]
    }
   ],
   "source": [
    "my_dict = {\"a\": 1, \"b\": 1, \"c\": 1} \n",
    "print(my_dict)"
   ]
  },
  {
   "cell_type": "code",
   "execution_count": 15,
   "id": "fec82341-51fd-429f-bd8b-ee0d60cb60c5",
   "metadata": {},
   "outputs": [
    {
     "name": "stdout",
     "output_type": "stream",
     "text": [
      "a 1\n",
      "b 2\n",
      "c 3\n"
     ]
    }
   ],
   "source": [
    "my_dict = {\"a\": 1, \"b\": 2, \"c\": 3}\n",
    "\n",
    "for key in my_dict:\n",
    "    value = my_dict[key]\n",
    "    print(key, value)\n"
   ]
  },
  {
   "cell_type": "code",
   "execution_count": 13,
   "id": "bd67051d-f6cb-4a7e-b1e7-a60e8d18690a",
   "metadata": {},
   "outputs": [
    {
     "name": "stdout",
     "output_type": "stream",
     "text": [
      "a 1\n",
      "b 2\n",
      "c 3\n"
     ]
    }
   ],
   "source": [
    "my_dict = {\"a\": 1, \"b\": 2, \"c\": 3}\n",
    "\n",
    "for key, value in my_dict.items():\n",
    "    print(key, value)"
   ]
  },
  {
   "cell_type": "code",
   "execution_count": 17,
   "id": "e8287e24-f994-44bf-bde8-eeb49813bacd",
   "metadata": {},
   "outputs": [
    {
     "name": "stdout",
     "output_type": "stream",
     "text": [
      "{'b': 2, 'c': 3}\n"
     ]
    }
   ],
   "source": [
    "my_dict = {\"a\": 1, \"b\": 2, \"c\": 3}\n",
    "\n",
    "my_dict.pop(\"a\")\n",
    "\n",
    "print(my_dict)"
   ]
  },
  {
   "cell_type": "code",
   "execution_count": 25,
   "id": "90db0289-4115-4945-981f-9f5f2168f8d5",
   "metadata": {},
   "outputs": [
    {
     "name": "stdout",
     "output_type": "stream",
     "text": [
      "0\n"
     ]
    }
   ],
   "source": [
    "my_dict = {\"a\": 1, \"b\": 2, \"c\": 3}\n",
    "value = my_dict.pop(\"d\", 0)\n",
    "print(value)\n"
   ]
  },
  {
   "cell_type": "code",
   "execution_count": 27,
   "id": "ce34ae0b-debf-4e84-b4ee-0e7a5d66f2f8",
   "metadata": {},
   "outputs": [
    {
     "name": "stdout",
     "output_type": "stream",
     "text": [
      "{'b': 2, 'c': 3}\n"
     ]
    }
   ],
   "source": [
    "my_dict = {\"a\": 1, \"b\": 2, \"c\": 3}\n",
    "\n",
    "del my_dict[\"a\"]\n",
    "print(my_dict)\n"
   ]
  },
  {
   "cell_type": "code",
   "execution_count": 42,
   "id": "cc5e7237-b001-401b-92d8-d0de2e5a2914",
   "metadata": {},
   "outputs": [
    {
     "name": "stdout",
     "output_type": "stream",
     "text": [
      "1\n",
      "2\n",
      "3\n"
     ]
    }
   ],
   "source": [
    "my_dict = {\"a\": 1, \"b\": 2, \"c\": 3} \n",
    "for v in my_dict.values(): \n",
    "    print(v)"
   ]
  },
  {
   "cell_type": "code",
   "execution_count": 44,
   "id": "a8406cb0-f899-499d-a635-80a5cff54d71",
   "metadata": {},
   "outputs": [
    {
     "name": "stdout",
     "output_type": "stream",
     "text": [
      "[1, 2, 3]\n"
     ]
    }
   ],
   "source": [
    "my_dict = {\"a\": 1, \"b\": 2, \"c\": 3}\n",
    "\n",
    "v = list(my_dict.values())\n",
    "\n",
    "print(v)"
   ]
  },
  {
   "cell_type": "code",
   "execution_count": 48,
   "id": "6f33c070-64de-4d65-bb79-f36a0d7743b7",
   "metadata": {},
   "outputs": [
    {
     "name": "stdout",
     "output_type": "stream",
     "text": [
      "{1: 3, 2: 3, 3: 3}\n"
     ]
    }
   ],
   "source": [
    "count = {\n",
    "    1: 3,\n",
    "    2: 3,\n",
    "    3: 3\n",
    "}\n",
    "print(count)"
   ]
  },
  {
   "cell_type": "code",
   "execution_count": 52,
   "id": "1d3d212a-24ff-409c-ba94-7b457eb20570",
   "metadata": {},
   "outputs": [
    {
     "name": "stdout",
     "output_type": "stream",
     "text": [
      "a 1\n",
      "b 2\n",
      "c 3\n"
     ]
    }
   ],
   "source": [
    "my_dict = {\"a\": 1, \"b\": 2, \"c\": 3}\n",
    "\n",
    "for key, value in my_dict.items():\n",
    "    print(key, value)"
   ]
  },
  {
   "cell_type": "code",
   "execution_count": 58,
   "id": "d6e5f329-a9a5-476c-abb2-6ee2bbcf5b6e",
   "metadata": {},
   "outputs": [
    {
     "name": "stdout",
     "output_type": "stream",
     "text": [
      "Enter your name:\n"
     ]
    },
    {
     "name": "stdin",
     "output_type": "stream",
     "text": [
      " Sayyorakhon\n"
     ]
    },
    {
     "name": "stdout",
     "output_type": "stream",
     "text": [
      "Hello, Sayyorakhon\n"
     ]
    }
   ],
   "source": [
    "print(\"Enter your name:\")\n",
    "x = input()\n",
    "print(\"Hello, \" + x)\n"
   ]
  },
  {
   "cell_type": "code",
   "execution_count": 56,
   "id": "4b7b5028-62a6-4c81-8a66-e66225b60f2d",
   "metadata": {},
   "outputs": [
    {
     "name": "stdout",
     "output_type": "stream",
     "text": [
      "['welcome', 'to', 'the', 'jungle']\n"
     ]
    }
   ],
   "source": [
    "txt = \"welcome to the jungle\"\n",
    "\n",
    "x = txt.split()\n",
    "\n",
    "print(x)"
   ]
  },
  {
   "cell_type": "code",
   "execution_count": 60,
   "id": "403befc6-afb1-4867-bc36-da5964f58aa3",
   "metadata": {},
   "outputs": [
    {
     "name": "stdout",
     "output_type": "stream",
     "text": [
      "An error occurred!\n",
      "This will be printed regardless.\n"
     ]
    }
   ],
   "source": [
    "try:\n",
    "   # code that might cause an error\n",
    "   result = 10 / 0\n",
    "except:\n",
    "   print(\"An error occurred!\")\n",
    "\n",
    "\n",
    "print(\"This will be printed regardless.\")\n"
   ]
  },
  {
   "cell_type": "code",
   "execution_count": 62,
   "id": "fa5620bd-268b-469f-8b2a-3f2044d7c1ad",
   "metadata": {},
   "outputs": [
    {
     "name": "stdout",
     "output_type": "stream",
     "text": [
      "An error occurred: name 'a' is not defined\n"
     ]
    }
   ],
   "source": [
    "try:\n",
    "   num1 = int(a)\n",
    "   num2 = int(b)\n",
    "   result = num1 / num2\n",
    "except ValueError:\n",
    "   print(\"Error: Invalid value!\")\n",
    "except ZeroDivisionError:\n",
    "   print(\"Error: Division by zero!\")\n",
    "except Exception as error:\n",
    "   print(\"An error occurred:\", error)"
   ]
  },
  {
   "cell_type": "code",
   "execution_count": 64,
   "id": "304d0ecc-e258-41e9-9e8f-f85f1a54cccd",
   "metadata": {},
   "outputs": [
    {
     "ename": "SyntaxError",
     "evalue": "incomplete input (1190605995.py, line 1)",
     "output_type": "error",
     "traceback": [
      "\u001b[1;36m  Cell \u001b[1;32mIn[64], line 1\u001b[1;36m\u001b[0m\n\u001b[1;33m    def sort(key=None, reverse=False):\u001b[0m\n\u001b[1;37m                                      ^\u001b[0m\n\u001b[1;31mSyntaxError\u001b[0m\u001b[1;31m:\u001b[0m incomplete input\n"
     ]
    }
   ],
   "source": [
    "def sort(key=None, reverse=False):\n"
   ]
  },
  {
   "cell_type": "code",
   "execution_count": 66,
   "id": "5d5b35a0-07f2-4ce0-9e52-225a1f52b913",
   "metadata": {},
   "outputs": [
    {
     "name": "stdout",
     "output_type": "stream",
     "text": [
      "[6, 5, 3, 2, 1]\n"
     ]
    }
   ],
   "source": [
    "elements = [5, 3, 6, 2, 1]\n",
    "\n",
    "elements.sort(key=None, reverse=True)\n",
    "\n",
    "print(elements) # [6, 5, 3, 2, 1]\n"
   ]
  },
  {
   "cell_type": "code",
   "execution_count": 82,
   "id": "56df085f-22c5-4703-8739-d0cc13eb048b",
   "metadata": {},
   "outputs": [
    {
     "name": "stdout",
     "output_type": "stream",
     "text": [
      "[6, 5, 3, 2, 1]\n",
      "[6, 5, 3, 2, 1]\n"
     ]
    }
   ],
   "source": [
    "elements.sort(reverse=True)\n",
    "print(elements)\n",
    "elements = [5, 3, 6, 2, 1]\n",
    "\n",
    "elements.sort()\n",
    "\n",
    "elements.reverse()\n",
    "print(elements)"
   ]
  },
  {
   "cell_type": "code",
   "execution_count": 84,
   "id": "82414d69-b60b-4c69-ac0e-ae629d9c56a9",
   "metadata": {},
   "outputs": [
    {
     "name": "stdout",
     "output_type": "stream",
     "text": [
      "['kiwi', 'pear', 'apple', 'banana', 'cherry', 'blueberry', 'watermelon']\n"
     ]
    }
   ],
   "source": [
    "def get_word_length(word):\n",
    "   return len(word)\n",
    "words = [\"apple\", \"banana\", \"kiwi\", \"pear\", \"watermelon\", \"blueberry\", \"cherry\"]\n",
    "words.sort(key=get_word_length)\n",
    "print(words) # ['kiwi', 'pear', 'apple', 'banana', 'cherry', 'blueberry', 'watermelon']\n"
   ]
  },
  {
   "cell_type": "code",
   "execution_count": 88,
   "id": "667dca2d-b212-4860-9c24-d16f696f1793",
   "metadata": {},
   "outputs": [
    {
     "name": "stdout",
     "output_type": "stream",
     "text": [
      "['kiwi', 'pear', 'apple', 'banana', 'cherry']\n"
     ]
    }
   ],
   "source": [
    "def get_word_length(word):\n",
    "   return len(word)\n",
    "words = [\"apple\", \"banana\", \"kiwi\", \"pear\", \"cherry\"]\n",
    "words.sort(key=get_word_length)\n",
    "print(words) # ['kiwi', 'pear', 'apple', 'banana', 'cherry', 'blueberry', 'watermelon']\n"
   ]
  },
  {
   "cell_type": "code",
   "execution_count": 94,
   "id": "1461dede-b8ca-437f-ae3f-af2a39b84ec2",
   "metadata": {},
   "outputs": [
    {
     "name": "stdout",
     "output_type": "stream",
     "text": [
      "['kiwi', 'pear', 'apple', 'banana', 'cherry']\n"
     ]
    }
   ],
   "source": [
    "words = [\"apple\", \"banana\", \"kiwi\", \"pear\", \"cherry\"]\n",
    "\n",
    "words.sort(key=lambda word: len(word))\n",
    "\n",
    "print(words) # ['kiwi', 'pear', 'apple', 'banana', 'cherry', 'blueberry', 'watermelon']"
   ]
  },
  {
   "cell_type": "code",
   "execution_count": 98,
   "id": "4b0a91d9-49c1-4d59-b79d-c8c719fce17b",
   "metadata": {},
   "outputs": [
    {
     "name": "stdout",
     "output_type": "stream",
     "text": [
      "['apple', 'banana', 'cherry', 'kiwi', 'pear']\n"
     ]
    }
   ],
   "source": [
    "words = [\"kiwi\", \"pear\", \"apple\", \"banana\", \"cherry\", ]\n",
    "\n",
    "sorted_words = sorted(words)\n",
    "\n",
    "print(sorted_words) # ['apple', 'banana', 'blueberry', 'cherry', 'kiwi', 'pear']\n"
   ]
  },
  {
   "cell_type": "code",
   "execution_count": null,
   "id": "5442eebd-f4b0-4369-a387-b4c8c8310a85",
   "metadata": {},
   "outputs": [],
   "source": []
  }
 ],
 "metadata": {
  "kernelspec": {
   "display_name": "Python 3 (ipykernel)",
   "language": "python",
   "name": "python3"
  },
  "language_info": {
   "codemirror_mode": {
    "name": "ipython",
    "version": 3
   },
   "file_extension": ".py",
   "mimetype": "text/x-python",
   "name": "python",
   "nbconvert_exporter": "python",
   "pygments_lexer": "ipython3",
   "version": "3.12.4"
  }
 },
 "nbformat": 4,
 "nbformat_minor": 5
}
