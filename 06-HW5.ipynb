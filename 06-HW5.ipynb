{
 "cells": [
  {
   "cell_type": "markdown",
   "id": "92525a92-7984-4d6d-a499-8d841d41b154",
   "metadata": {},
   "source": [
    "**Q1**: Use a loop to print \"I know how to use while loops\" exactly 12 times."
   ]
  },
  {
   "cell_type": "code",
   "execution_count": null,
   "id": "9d2ea386-f4ce-4a60-b4e4-a85e93a96f12",
   "metadata": {},
   "outputs": [],
   "source": []
  },
  {
   "cell_type": "code",
   "execution_count": 1,
   "id": "2897c719-96f6-4828-bae4-368ceed33f3d",
   "metadata": {},
   "outputs": [
    {
     "name": "stdout",
     "output_type": "stream",
     "text": [
      "I know how to use while loops\n",
      "I know how to use while loops\n",
      "I know how to use while loops\n",
      "I know how to use while loops\n",
      "I know how to use while loops\n",
      "I know how to use while loops\n",
      "I know how to use while loops\n",
      "I know how to use while loops\n",
      "I know how to use while loops\n",
      "I know how to use while loops\n",
      "I know how to use while loops\n",
      "I know how to use while loops\n"
     ]
    }
   ],
   "source": [
    "i = 0\n",
    "while i < 12:\n",
    "    print(\"I know how to use while loops\")\n",
    "    i += 1"
   ]
  },
  {
   "cell_type": "code",
   "execution_count": null,
   "id": "fe8047d5-8fac-49a0-9411-aafde96b8a85",
   "metadata": {},
   "outputs": [],
   "source": []
  },
  {
   "cell_type": "markdown",
   "id": "265182d9-7484-45f2-908b-aace630b4f71",
   "metadata": {},
   "source": [
    "**Q2**: Can you use a while loop to print the\\\n",
    "digits from 0 to 9 in order (including 0 and 9)?\\\n",
    "Your loop should execute 10 times.\n"
   ]
  },
  {
   "cell_type": "code",
   "execution_count": 17,
   "id": "c8ac4534-ec2d-40c5-9473-c1583be4fc3e",
   "metadata": {},
   "outputs": [
    {
     "name": "stdout",
     "output_type": "stream",
     "text": [
      "0\n",
      "1\n",
      "2\n",
      "3\n",
      "4\n",
      "5\n",
      "6\n",
      "7\n",
      "8\n",
      "9\n"
     ]
    }
   ],
   "source": [
    "i = 0\n",
    "while i < 10:\n",
    "    print(i)\n",
    "    i += 1"
   ]
  },
  {
   "cell_type": "markdown",
   "id": "6c079f61-2730-479b-a450-2d9597121f62",
   "metadata": {},
   "source": [
    "**Q3** Can you use a while loop to print all multiples of 10 from 10 to 90 in order (including 10 and 90)?"
   ]
  },
  {
   "cell_type": "code",
   "execution_count": 21,
   "id": "d4745404-d4c4-4426-b774-5fe128f32d74",
   "metadata": {},
   "outputs": [
    {
     "name": "stdout",
     "output_type": "stream",
     "text": [
      "10\n",
      "20\n",
      "30\n",
      "40\n",
      "50\n",
      "60\n",
      "70\n",
      "80\n",
      "90\n"
     ]
    }
   ],
   "source": [
    "i = 10\n",
    "while i < 100:\n",
    "    print(i)\n",
    "    i += 10"
   ]
  },
  {
   "cell_type": "markdown",
   "id": "5da98060-299b-4ab8-809f-bcb7e79482f3",
   "metadata": {},
   "source": [
    "**Q4** Using a for loop, print the numbers 0 through 12, in order, including 0 and 12."
   ]
  },
  {
   "cell_type": "code",
   "execution_count": 23,
   "id": "abcfdae3-7ab0-4bbf-8a1a-06e3e42ace0f",
   "metadata": {},
   "outputs": [
    {
     "name": "stdout",
     "output_type": "stream",
     "text": [
      "0\n",
      "1\n",
      "2\n",
      "3\n",
      "4\n",
      "5\n",
      "6\n",
      "7\n",
      "8\n",
      "9\n",
      "10\n",
      "11\n",
      "12\n"
     ]
    }
   ],
   "source": [
    "for i in range(13):\n",
    "    print(i)"
   ]
  },
  {
   "cell_type": "markdown",
   "id": "6b87fa60-2b32-4690-95f1-5fd2176df643",
   "metadata": {},
   "source": [
    "**Q5** Using a for loop, print the numbers 10 through 20, in order, including 10 and 20."
   ]
  },
  {
   "cell_type": "code",
   "execution_count": 25,
   "id": "f8e84473-fceb-42bc-a074-8b9ef584a3ef",
   "metadata": {},
   "outputs": [
    {
     "name": "stdout",
     "output_type": "stream",
     "text": [
      "10\n",
      "11\n",
      "12\n",
      "13\n",
      "14\n",
      "15\n",
      "16\n",
      "17\n",
      "18\n",
      "19\n",
      "20\n"
     ]
    }
   ],
   "source": [
    "for i in range(10,21):\n",
    "    print(i)\n",
    "    "
   ]
  },
  {
   "cell_type": "markdown",
   "id": "9f496a75-6b06-4c70-9b50-2ae257d21edb",
   "metadata": {},
   "source": [
    "**Q6** Using a for loop, print all multiples of 10 from 0 to 100, in order, including 0 and 100."
   ]
  },
  {
   "cell_type": "code",
   "execution_count": 31,
   "id": "27830646-c091-4140-a809-018f64cf3a20",
   "metadata": {},
   "outputs": [
    {
     "name": "stdout",
     "output_type": "stream",
     "text": [
      "0\n",
      "10\n",
      "20\n",
      "30\n",
      "40\n",
      "50\n",
      "60\n",
      "70\n",
      "80\n",
      "90\n",
      "100\n"
     ]
    }
   ],
   "source": [
    "for i in range(0, 101, 10):\n",
    "    print(i)"
   ]
  },
  {
   "cell_type": "markdown",
   "id": "200bc0f8-9248-432f-af56-e6cd686ed58f",
   "metadata": {},
   "source": [
    "**Q7** Using a for loop, print the numbers 20 through 10, in reverse order, including 20 and 10."
   ]
  },
  {
   "cell_type": "code",
   "execution_count": 35,
   "id": "baa55e7b-298e-46cc-b841-b5143c932d19",
   "metadata": {},
   "outputs": [
    {
     "name": "stdout",
     "output_type": "stream",
     "text": [
      "20\n",
      "19\n",
      "18\n",
      "17\n",
      "16\n",
      "15\n",
      "14\n",
      "13\n",
      "12\n",
      "11\n",
      "10\n"
     ]
    }
   ],
   "source": [
    "for i in range(20,9, -1):\n",
    "    print(i)"
   ]
  },
  {
   "cell_type": "markdown",
   "id": "442034d4-95fb-45a5-858e-8a0ef5f03cd7",
   "metadata": {},
   "source": [
    "**Q8** Using nested loops, print all pairs of numbers from 3, 4, 5, where the order of each pair matters."
   ]
  },
  {
   "cell_type": "code",
   "execution_count": 37,
   "id": "1f268a36-9c3d-4f57-b6e1-4470cd2a8e30",
   "metadata": {},
   "outputs": [
    {
     "name": "stdout",
     "output_type": "stream",
     "text": [
      "3 3\n",
      "3 4\n",
      "3 5\n",
      "4 3\n",
      "4 4\n",
      "4 5\n",
      "5 3\n",
      "5 4\n",
      "5 5\n"
     ]
    }
   ],
   "source": [
    "for i in range(3, 6):\n",
    "\n",
    "    for j in range(3, 6):\n",
    "\n",
    "        print(i, j)"
   ]
  },
  {
   "cell_type": "code",
   "execution_count": null,
   "id": "4d963339-630c-46b0-a5d3-6eddd3e016b7",
   "metadata": {},
   "outputs": [],
   "source": [
    "opened_file = open('AppleStore.csv')\n",
    "from csv import reader\n",
    "read_file = reader(opened_file)\n",
    "apps_data = list(read_file)\n",
    "\n",
    "free_games_social_ratings = []\n",
    "for row in apps_data[1:]:\n",
    "    rating = float(row[7])\n",
    "    genre = row[11]\n",
    "    price = float(row[4])\n",
    "    \n",
    "    if (genre == 'Social Networking' or genre == 'Games') and price == 0:\n",
    "        free_games_social_ratings.append(rating)\n",
    "        \n",
    "avg_free = sum(free_games_social_ratings) / len(free_games_social_ratings)\n",
    "\n",
    "# Not-free apps (average)\n",
    "not_free_games_social_ratings = []\n",
    "for row in apps_data[1:]:\n",
    "    rating = float(row[7])\n",
    "    genre = row[11]\n",
    "    price = float(row[4])\n",
    "    \n",
    "    if (genre == 'Social Networking' or genre == 'Games') and price != 0:\n",
    "        not_free_games_social_ratings.append(rating)\n",
    "        \n",
    "avg_not_free = sum(not_free_games_social_ratings) / len(not_free_games_social_ratings)"
   ]
  },
  {
   "cell_type": "code",
   "execution_count": null,
   "id": "e5eb648a-7d74-4ba1-a280-3aac477147b3",
   "metadata": {},
   "outputs": [],
   "source": [
    "x = -6\n",
    "y = 14\n",
    "z = 8.5\n",
    "if x > z:\n",
    "    print('x>z')\n",
    "if y != z:\n",
    "    print('y is not equal to z')\n",
    "if x < z and z < y:\n",
    "    print('z is between x and y')"
   ]
  },
  {
   "cell_type": "code",
   "execution_count": 5,
   "id": "54fe3424-7235-430a-a4cd-753c32663601",
   "metadata": {},
   "outputs": [
    {
     "name": "stdout",
     "output_type": "stream",
     "text": [
      "{'a': 1, 'b': 1, 'c': 1}\n"
     ]
    }
   ],
   "source": [
    "my_dict = {\"a\": 1, \"b\": 1, \"c\": 1} \n",
    "print(my_dict)"
   ]
  },
  {
   "cell_type": "code",
   "execution_count": 15,
   "id": "fec82341-51fd-429f-bd8b-ee0d60cb60c5",
   "metadata": {},
   "outputs": [
    {
     "name": "stdout",
     "output_type": "stream",
     "text": [
      "a 1\n",
      "b 2\n",
      "c 3\n"
     ]
    }
   ],
   "source": [
    "my_dict = {\"a\": 1, \"b\": 2, \"c\": 3}\n",
    "\n",
    "for key in my_dict:\n",
    "    value = my_dict[key]\n",
    "    print(key, value)\n"
   ]
  },
  {
   "cell_type": "code",
   "execution_count": 13,
   "id": "bd67051d-f6cb-4a7e-b1e7-a60e8d18690a",
   "metadata": {},
   "outputs": [
    {
     "name": "stdout",
     "output_type": "stream",
     "text": [
      "a 1\n",
      "b 2\n",
      "c 3\n"
     ]
    }
   ],
   "source": [
    "my_dict = {\"a\": 1, \"b\": 2, \"c\": 3}\n",
    "\n",
    "for key, value in my_dict.items():\n",
    "    print(key, value)"
   ]
  },
  {
   "cell_type": "code",
   "execution_count": 17,
   "id": "e8287e24-f994-44bf-bde8-eeb49813bacd",
   "metadata": {},
   "outputs": [
    {
     "name": "stdout",
     "output_type": "stream",
     "text": [
      "{'b': 2, 'c': 3}\n"
     ]
    }
   ],
   "source": [
    "my_dict = {\"a\": 1, \"b\": 2, \"c\": 3}\n",
    "\n",
    "my_dict.pop(\"a\")\n",
    "\n",
    "print(my_dict)"
   ]
  },
  {
   "cell_type": "code",
   "execution_count": 25,
   "id": "90db0289-4115-4945-981f-9f5f2168f8d5",
   "metadata": {},
   "outputs": [
    {
     "name": "stdout",
     "output_type": "stream",
     "text": [
      "0\n"
     ]
    }
   ],
   "source": [
    "my_dict = {\"a\": 1, \"b\": 2, \"c\": 3}\n",
    "value = my_dict.pop(\"d\", 0)\n",
    "print(value)\n"
   ]
  },
  {
   "cell_type": "code",
   "execution_count": 27,
   "id": "ce34ae0b-debf-4e84-b4ee-0e7a5d66f2f8",
   "metadata": {},
   "outputs": [
    {
     "name": "stdout",
     "output_type": "stream",
     "text": [
      "{'b': 2, 'c': 3}\n"
     ]
    }
   ],
   "source": [
    "my_dict = {\"a\": 1, \"b\": 2, \"c\": 3}\n",
    "\n",
    "del my_dict[\"a\"]\n",
    "print(my_dict)\n"
   ]
  },
  {
   "cell_type": "code",
   "execution_count": 42,
   "id": "cc5e7237-b001-401b-92d8-d0de2e5a2914",
   "metadata": {},
   "outputs": [
    {
     "name": "stdout",
     "output_type": "stream",
     "text": [
      "1\n",
      "2\n",
      "3\n"
     ]
    }
   ],
   "source": [
    "my_dict = {\"a\": 1, \"b\": 2, \"c\": 3} \n",
    "for v in my_dict.values(): \n",
    "    print(v)"
   ]
  },
  {
   "cell_type": "code",
   "execution_count": 44,
   "id": "a8406cb0-f899-499d-a635-80a5cff54d71",
   "metadata": {},
   "outputs": [
    {
     "name": "stdout",
     "output_type": "stream",
     "text": [
      "[1, 2, 3]\n"
     ]
    }
   ],
   "source": [
    "my_dict = {\"a\": 1, \"b\": 2, \"c\": 3}\n",
    "\n",
    "v = list(my_dict.values())\n",
    "\n",
    "print(v)"
   ]
  },
  {
   "cell_type": "code",
   "execution_count": 48,
   "id": "6f33c070-64de-4d65-bb79-f36a0d7743b7",
   "metadata": {},
   "outputs": [
    {
     "name": "stdout",
     "output_type": "stream",
     "text": [
      "{1: 3, 2: 3, 3: 3}\n"
     ]
    }
   ],
   "source": [
    "count = {\n",
    "    1: 3,\n",
    "    2: 3,\n",
    "    3: 3\n",
    "}\n",
    "print(count)"
   ]
  },
  {
   "cell_type": "code",
   "execution_count": 52,
   "id": "1d3d212a-24ff-409c-ba94-7b457eb20570",
   "metadata": {},
   "outputs": [
    {
     "name": "stdout",
     "output_type": "stream",
     "text": [
      "a 1\n",
      "b 2\n",
      "c 3\n"
     ]
    }
   ],
   "source": [
    "my_dict = {\"a\": 1, \"b\": 2, \"c\": 3}\n",
    "\n",
    "for key, value in my_dict.items():\n",
    "    print(key, value)"
   ]
  },
  {
   "cell_type": "code",
   "execution_count": 58,
   "id": "d6e5f329-a9a5-476c-abb2-6ee2bbcf5b6e",
   "metadata": {},
   "outputs": [
    {
     "name": "stdout",
     "output_type": "stream",
     "text": [
      "Enter your name:\n"
     ]
    },
    {
     "name": "stdin",
     "output_type": "stream",
     "text": [
      " Sayyorakhon\n"
     ]
    },
    {
     "name": "stdout",
     "output_type": "stream",
     "text": [
      "Hello, Sayyorakhon\n"
     ]
    }
   ],
   "source": [
    "print(\"Enter your name:\")\n",
    "x = input()\n",
    "print(\"Hello, \" + x)\n"
   ]
  },
  {
   "cell_type": "code",
   "execution_count": 56,
   "id": "4b7b5028-62a6-4c81-8a66-e66225b60f2d",
   "metadata": {},
   "outputs": [
    {
     "name": "stdout",
     "output_type": "stream",
     "text": [
      "['welcome', 'to', 'the', 'jungle']\n"
     ]
    }
   ],
   "source": [
    "txt = \"welcome to the jungle\"\n",
    "\n",
    "x = txt.split()\n",
    "\n",
    "print(x)"
   ]
  },
  {
   "cell_type": "code",
   "execution_count": 60,
   "id": "403befc6-afb1-4867-bc36-da5964f58aa3",
   "metadata": {},
   "outputs": [
    {
     "name": "stdout",
     "output_type": "stream",
     "text": [
      "An error occurred!\n",
      "This will be printed regardless.\n"
     ]
    }
   ],
   "source": [
    "try:\n",
    "   # code that might cause an error\n",
    "   result = 10 / 0\n",
    "except:\n",
    "   print(\"An error occurred!\")\n",
    "\n",
    "\n",
    "print(\"This will be printed regardless.\")\n"
   ]
  },
  {
   "cell_type": "code",
   "execution_count": 62,
   "id": "fa5620bd-268b-469f-8b2a-3f2044d7c1ad",
   "metadata": {},
   "outputs": [
    {
     "name": "stdout",
     "output_type": "stream",
     "text": [
      "An error occurred: name 'a' is not defined\n"
     ]
    }
   ],
   "source": [
    "try:\n",
    "   num1 = int(a)\n",
    "   num2 = int(b)\n",
    "   result = num1 / num2\n",
    "except ValueError:\n",
    "   print(\"Error: Invalid value!\")\n",
    "except ZeroDivisionError:\n",
    "   print(\"Error: Division by zero!\")\n",
    "except Exception as error:\n",
    "   print(\"An error occurred:\", error)"
   ]
  },
  {
   "cell_type": "code",
   "execution_count": 64,
   "id": "304d0ecc-e258-41e9-9e8f-f85f1a54cccd",
   "metadata": {},
   "outputs": [
    {
     "ename": "SyntaxError",
     "evalue": "incomplete input (1190605995.py, line 1)",
     "output_type": "error",
     "traceback": [
      "\u001b[1;36m  Cell \u001b[1;32mIn[64], line 1\u001b[1;36m\u001b[0m\n\u001b[1;33m    def sort(key=None, reverse=False):\u001b[0m\n\u001b[1;37m                                      ^\u001b[0m\n\u001b[1;31mSyntaxError\u001b[0m\u001b[1;31m:\u001b[0m incomplete input\n"
     ]
    }
   ],
   "source": [
    "def sort(key=None, reverse=False):\n"
   ]
  },
  {
   "cell_type": "code",
   "execution_count": 66,
   "id": "5d5b35a0-07f2-4ce0-9e52-225a1f52b913",
   "metadata": {},
   "outputs": [
    {
     "name": "stdout",
     "output_type": "stream",
     "text": [
      "[6, 5, 3, 2, 1]\n"
     ]
    }
   ],
   "source": [
    "elements = [5, 3, 6, 2, 1]\n",
    "\n",
    "elements.sort(key=None, reverse=True)\n",
    "\n",
    "print(elements) # [6, 5, 3, 2, 1]\n"
   ]
  },
  {
   "cell_type": "code",
   "execution_count": 82,
   "id": "56df085f-22c5-4703-8739-d0cc13eb048b",
   "metadata": {},
   "outputs": [
    {
     "name": "stdout",
     "output_type": "stream",
     "text": [
      "[6, 5, 3, 2, 1]\n",
      "[6, 5, 3, 2, 1]\n"
     ]
    }
   ],
   "source": [
    "elements.sort(reverse=True)\n",
    "print(elements)\n",
    "elements = [5, 3, 6, 2, 1]\n",
    "\n",
    "elements.sort()\n",
    "\n",
    "elements.reverse()\n",
    "print(elements)"
   ]
  },
  {
   "cell_type": "code",
   "execution_count": 84,
   "id": "82414d69-b60b-4c69-ac0e-ae629d9c56a9",
   "metadata": {},
   "outputs": [
    {
     "name": "stdout",
     "output_type": "stream",
     "text": [
      "['kiwi', 'pear', 'apple', 'banana', 'cherry', 'blueberry', 'watermelon']\n"
     ]
    }
   ],
   "source": [
    "def get_word_length(word):\n",
    "   return len(word)\n",
    "words = [\"apple\", \"banana\", \"kiwi\", \"pear\", \"watermelon\", \"blueberry\", \"cherry\"]\n",
    "words.sort(key=get_word_length)\n",
    "print(words) # ['kiwi', 'pear', 'apple', 'banana', 'cherry', 'blueberry', 'watermelon']\n"
   ]
  },
  {
   "cell_type": "code",
   "execution_count": 88,
   "id": "667dca2d-b212-4860-9c24-d16f696f1793",
   "metadata": {},
   "outputs": [
    {
     "name": "stdout",
     "output_type": "stream",
     "text": [
      "['kiwi', 'pear', 'apple', 'banana', 'cherry']\n"
     ]
    }
   ],
   "source": [
    "def get_word_length(word):\n",
    "   return len(word)\n",
    "words = [\"apple\", \"banana\", \"kiwi\", \"pear\", \"cherry\"]\n",
    "words.sort(key=get_word_length)\n",
    "print(words) # ['kiwi', 'pear', 'apple', 'banana', 'cherry', 'blueberry', 'watermelon']\n"
   ]
  },
  {
   "cell_type": "code",
   "execution_count": 94,
   "id": "1461dede-b8ca-437f-ae3f-af2a39b84ec2",
   "metadata": {},
   "outputs": [
    {
     "name": "stdout",
     "output_type": "stream",
     "text": [
      "['kiwi', 'pear', 'apple', 'banana', 'cherry']\n"
     ]
    }
   ],
   "source": [
    "words = [\"apple\", \"banana\", \"kiwi\", \"pear\", \"cherry\"]\n",
    "\n",
    "words.sort(key=lambda word: len(word))\n",
    "\n",
    "print(words) # ['kiwi', 'pear', 'apple', 'banana', 'cherry', 'blueberry', 'watermelon']"
   ]
  },
  {
   "cell_type": "code",
   "execution_count": 98,
   "id": "4b0a91d9-49c1-4d59-b79d-c8c719fce17b",
   "metadata": {},
   "outputs": [
    {
     "name": "stdout",
     "output_type": "stream",
     "text": [
      "['apple', 'banana', 'cherry', 'kiwi', 'pear']\n"
     ]
    }
   ],
   "source": [
    "words = [\"kiwi\", \"pear\", \"apple\", \"banana\", \"cherry\", ]\n",
    "\n",
    "sorted_words = sorted(words)\n",
    "\n",
    "print(sorted_words) # ['apple', 'banana', 'blueberry', 'cherry', 'kiwi', 'pear']\n"
   ]
  },
  {
   "cell_type": "code",
   "execution_count": 104,
   "id": "5442eebd-f4b0-4369-a387-b4c8c8310a85",
   "metadata": {},
   "outputs": [
    {
     "name": "stdout",
     "output_type": "stream",
     "text": [
      "['kiwi', 'pear', 'apple', 'banana', 'cherry', 'blueberry', 'watermelon']\n"
     ]
    }
   ],
   "source": [
    "words = [\"apple\", \"banana\", \"kiwi\", \"pear\", \"watermelon\", \"blueberry\", \"cherry\"]\n",
    "\n",
    "words.sort(key=lambda word: len(word))\n",
    "print(words)"
   ]
  },
  {
   "cell_type": "code",
   "execution_count": null,
   "id": "56e781a8-ce62-44b9-9398-1e87edd6fe67",
   "metadata": {},
   "outputs": [],
   "source": [
    "x = -6\n",
    "y = 14\n",
    "z = 8.5\n",
    "if x > z:\n",
    "    print('x>z')\n",
    "if y != z:\n",
    "    print('y is not equal to z')\n",
    "if x < z and z < y:\n",
    "    print('z is between x and y')"
   ]
  },
  {
   "cell_type": "code",
   "execution_count": null,
   "id": "77171fe7-3a4e-446a-9b57-f4dcd1f22d1f",
   "metadata": {},
   "outputs": [],
   "source": [
    "opened_file = open('AppleStore.csv')\n",
    "from csv import reader\n",
    "read_file = reader(opened_file)\n",
    "apps_data = list(read_file)\n",
    "n_apps_more_9 = 0\n",
    "rating_sum = 0\n",
    "n_apps_less_9 = 0\n",
    "#print(apps_data[0])\n",
    "for row in apps_data[1:]:\n",
    "    price = float(row[4])\n",
    "    rating = float(row[7])\n",
    "    if price > 9.0:\n",
    "        n_apps_more_9 += 1\n",
    "        rating_sum += rating\n",
    "    else:\n",
    "        n_apps_less_9 += 1\n",
    "\n",
    "print(n_apps_more_9)\n",
    "avg_rating = rating_sum / n_apps_more_9"
   ]
  },
  {
   "cell_type": "code",
   "execution_count": null,
   "id": "456b1276-5b34-4951-b523-e104117b7b3b",
   "metadata": {},
   "outputs": [],
   "source": [
    "opened_file = open('AppleStore.csv')\n",
    "from csv import reader\n",
    "read_file = reader(opened_file)\n",
    "apps_data = list(read_file)\n",
    "\n",
    "for app in apps_data[1:]:\n",
    "    price = float(app[4])\n",
    "    # Complete code from here\n",
    "    if price == 0.0:\n",
    "        app.append('free')\n",
    "    else:\n",
    "        app.append('not free')\n",
    "apps_data[0].append('free_or_not')\n",
    "print(apps_data[:6])"
   ]
  },
  {
   "cell_type": "code",
   "execution_count": null,
   "id": "7a6df386-d23f-473e-9e1b-65b852b94765",
   "metadata": {},
   "outputs": [],
   "source": [
    "app_ratings = [['Facebook', 3.5], ['Notion', 4.0], ['Astropad Standard', 4.5], ['NAVIGON Europe', 3.5]]\n",
    "for app in app_ratings:\n",
    "    rating = app[1]\n",
    "    if rating < 3.0:\n",
    "        app.append('below average')\n",
    "    elif rating >= 3.0 and rating < 4.0:\n",
    "        app.append('roughly average')\n",
    "    elif rating >= 4.0:\n",
    "        app.append('better than average')\n",
    "print(app_ratings)        "
   ]
  },
  {
   "cell_type": "code",
   "execution_count": null,
   "id": "7e8d1c77-9ab5-4965-8c4a-e5429354084b",
   "metadata": {},
   "outputs": [],
   "source": [
    "opened_file = open('AppleStore.csv')\n",
    "from csv import reader\n",
    "read_file = reader(opened_file)\n",
    "apps_data = list(read_file)\n",
    "\n",
    "for app in apps_data[1:]:\n",
    "    price = float(app[4])\n",
    "    # Complete code from here\n",
    "    if price == 0:\n",
    "        app.append('free')\n",
    "    elif price > 0 and price < 20:\n",
    "        app.append('affordable')\n",
    "    elif price >= 20 and price < 50:\n",
    "        app.append('expensive')\n",
    "    elif price >= 50:\n",
    "        app.append('very expensive')\n",
    "apps_data[0].append('price_label')\n",
    "print(apps_data[:6])\n",
    "        \n",
    "    "
   ]
  },
  {
   "cell_type": "code",
   "execution_count": null,
   "id": "06eef8e0-2dfc-4a99-9fce-fddf1882903d",
   "metadata": {},
   "outputs": [],
   "source": [
    "content_ratings = ['4+', '9+', '12+', '17+']\n",
    "numbers = [4433, 987, 1155, 622]\n",
    "content_rating_numbers = [['4+', '9+', '12+', '17+'], [4433, 987, 1155, 622]]\n"
   ]
  },
  {
   "cell_type": "code",
   "execution_count": null,
   "id": "d991465d-1d4e-455b-bcc0-da56e2832b03",
   "metadata": {},
   "outputs": [],
   "source": [
    "content_ratings = {'4+': 4433, '9+': 987, '12+': 1155, '17+':622}\n",
    "print(content_ratings)"
   ]
  },
  {
   "cell_type": "code",
   "execution_count": null,
   "id": "c3a09c38-7cac-41e7-b2c6-62c2cec853bc",
   "metadata": {},
   "outputs": [],
   "source": [
    "content_ratings = {'4+': 4433, '9+': 987, '12+': 1155, '17+': 622}\n",
    "over_9 = (content_ratings['9+'])\n",
    "over_17 = (content_ratings['17+'])\n",
    "print(over_9)\n",
    "print(over_17)"
   ]
  },
  {
   "cell_type": "code",
   "execution_count": null,
   "id": "6c7dda70-0e2f-4983-a178-81e56afdfa03",
   "metadata": {},
   "outputs": [],
   "source": [
    "content_ratings = {}\n",
    "content_ratings['12+'] = 1155\n",
    "content_ratings['17+'] = 622\n",
    "content_ratings['4+'] = 4433\n",
    "content_ratings['9+'] = 987\n",
    "over_12_n_apps = content_ratings['12+']\n",
    "print(over_12_n_apps)"
   ]
  },
  {
   "cell_type": "code",
   "execution_count": null,
   "id": "47e19871-dcbb-4e09-a143-59929ca4b10d",
   "metadata": {},
   "outputs": [],
   "source": [
    "error = True\n",
    "print(error)"
   ]
  },
  {
   "cell_type": "code",
   "execution_count": null,
   "id": "3327edc8-da6e-440e-bfda-7394cf365c45",
   "metadata": {},
   "outputs": [],
   "source": [
    "d_1 = {'key_1': 'first_value', \n",
    "       'key_2': 2,\n",
    "       'key_3': 3.14,\n",
    "       'key_4': True,\n",
    "       'key_5': [4,2,1],\n",
    "       'key_6': {'inner_key' : 6}}\n",
    " "
   ]
  },
  {
   "cell_type": "code",
   "execution_count": 1,
   "id": "8c6132fa-a448-43ba-95d0-da42dec15684",
   "metadata": {},
   "outputs": [
    {
     "name": "stdout",
     "output_type": "stream",
     "text": [
      "4\n",
      "-575050039314297816\n",
      "737869762948381699\n",
      "1\n"
     ]
    }
   ],
   "source": [
    "print(hash(4))\n",
    "print(hash('four'))\n",
    "print(hash(3.32))\n",
    "print(hash(True))"
   ]
  },
  {
   "cell_type": "code",
   "execution_count": 3,
   "id": "ee179fe1-6593-4dd6-87c6-605f39b718ef",
   "metadata": {},
   "outputs": [
    {
     "name": "stdout",
     "output_type": "stream",
     "text": [
      "False\n",
      "False\n"
     ]
    }
   ],
   "source": [
    "content_ratings = {'4+': 4433, '9+': 987, '12+': 1155, '17+': 622}\n",
    "\n",
    "print(4433 in content_ratings)\n",
    "print(987 in content_ratings)"
   ]
  },
  {
   "cell_type": "code",
   "execution_count": null,
   "id": "ccc65b15-6f62-4a8a-9020-55ac59ebdb93",
   "metadata": {},
   "outputs": [],
   "source": [
    "content_ratings = {'4+': 4433, '9+': 987, '12+': 1155, '17+': 622}\n",
    "is_in_dictionary_1 =  True\n",
    "is_in_dictionary_2 =  False\n",
    "print('9+' in content_ratings)\n",
    "print(987 in content_ratings)\n",
    "if '17+' in content_ratings:\n",
    "    result = \"It exists\" \n",
    "print(result)"
   ]
  },
  {
   "cell_type": "code",
   "execution_count": null,
   "id": "d3a25afd-8f05-4700-a9b8-fc5f0556d5ce",
   "metadata": {},
   "outputs": [],
   "source": [
    "content_ratings = {'4+': 622, '12+': '1155', '9+': 987, '17+': 4433}\n",
    "temp = content_ratings['4+']\n",
    "content_ratings['4+'] = content_ratings['17+']\n",
    "content_ratings['17+'] = temp\n",
    "content_ratings['12+'] = int(content_ratings['12+'])\n",
    "print(content_ratings)"
   ]
  },
  {
   "cell_type": "code",
   "execution_count": null,
   "id": "56c10cef-b7a2-4cc3-beef-6b58ecf18e85",
   "metadata": {},
   "outputs": [],
   "source": [
    "opened_file = open('AppleStore.csv')\n",
    "from csv import reader\n",
    "read_file = reader(opened_file)\n",
    "apps_data = list(read_file)\n",
    "content_ratings = {'4+': 0, '9+': 0, '12+': 0, '17+': 0}\n",
    "\n",
    "for row in apps_data[1:]:\n",
    "    c_rating = row[10]\n",
    "    if c_rating in content_ratings:\n",
    "        content_ratings[c_rating] += 1\n",
    "        \n",
    "print(content_ratings)"
   ]
  },
  {
   "cell_type": "code",
   "execution_count": null,
   "id": "408f8c7f-2d71-4eb4-b2c5-71fcc7d3ca16",
   "metadata": {},
   "outputs": [],
   "source": [
    "content_ratings = {'4+': 4433, '12+': 1155, '9+': 987, '17+': 622}\n",
    "total_number_of_apps = 7197\n",
    "for i in content_ratings:\n",
    "    content_ratings[i] /= total_number_of_apps\n",
    "    content_ratings[i] *= 100\n",
    "print(i)\n",
    "percentage_17_plus = content_ratings['17+']\n",
    "percentage_15_allowed = 100 - percentage_17_plus\n",
    "print(percentage_15_allowed)"
   ]
  },
  {
   "cell_type": "code",
   "execution_count": null,
   "id": "a4b054a3-5526-499d-890e-2bc7c27e4122",
   "metadata": {},
   "outputs": [],
   "source": [
    "content_ratings = {'4+': 4433, '12+': 1155, '9+': 987, '17+': 622}\n",
    "total_number_of_apps = 7197\n",
    "c_ratings_proportions = {}\n",
    "\n",
    "for key in content_ratings:\n",
    "    proportion = (content_ratings[key] / total_number_of_apps)     \n",
    "    c_ratings_proportions[key] = proportion\n",
    "\n",
    "print(c_ratings_proportions)\n",
    "print(content_ratings)\n",
    "Output\n",
    "{'4+': 0.6159510907322495, '12+': 0.16048353480616923, \n",
    " '9+': 0.13714047519799916, '17+': 0.08642489926358204}\n",
    "{'4+': 4433, '12+': 1155, '9+': 987, '17+': 622}"
   ]
  },
  {
   "cell_type": "code",
   "execution_count": null,
   "id": "37cad5ff-e380-4534-9429-35000d7ca56a",
   "metadata": {},
   "outputs": [],
   "source": [
    "content_ratings = {'4+': 4433, '12+': 1155, '9+': 987, '17+': 622}\n",
    "total_number_of_apps = 7197\n",
    "c_ratings_proportions = {}\n",
    "c_ratings_percentages = {}\n",
    "for key in content_ratings:\n",
    "    proportion = (content_ratings[key] / total_number_of_apps)     \n",
    "    c_ratings_proportions[key] = proportion\n",
    "    c_ratings_percentages[key] = proportion * 100\n",
    "print(c_ratings_proportions)\n",
    "print(c_ratings_percentages)"
   ]
  },
  {
   "cell_type": "code",
   "execution_count": null,
   "id": "f6d83e58-2283-4b63-acd3-a0d311dea854",
   "metadata": {},
   "outputs": [],
   "source": [
    "size_freq = {}\n",
    "\n",
    "for row in apps_data[1:]:\n",
    "    size = row[2]\n",
    "\n",
    "    if size in size_freq:\n",
    "        size_freq[size] +=1\n",
    "    else:\n",
    "        size_freq[size] = 1\n",
    "\n",
    "print(len(size_freq))\n",
    "print(size_freq)\n",
    "Output\n",
    "7107\n",
    "{'389879808': 1, '113954816': 1, '116476928': 1, \n",
    " '65921024': 1, '130242560': 1, '74778624': 1, ...}"
   ]
  },
  {
   "cell_type": "code",
   "execution_count": null,
   "id": "ac4a8d16-d277-44e4-961c-68a7cc092c66",
   "metadata": {},
   "outputs": [],
   "source": [
    "opened_file = open('AppleStore.csv')\n",
    "from csv import reader\n",
    "read_file = reader(opened_file)\n",
    "apps_data = list(read_file)\n",
    "data_sizes = []\n",
    "for row in apps_data[1:]:\n",
    "    size = float(row[2])\n",
    "    data_sizes.append(size)\n",
    "min_size = min(data_sizes)\n",
    "max_size = max(data_sizes)\n",
    "print(min_size)\n",
    "print(max_size"
   ]
  },
  {
   "cell_type": "code",
   "execution_count": null,
   "id": "d74b370a-5ea8-489c-a292-e6d250f4184a",
   "metadata": {},
   "outputs": [],
   "source": [
    "opened_file = open('AppleStore.csv')\n",
    "from csv import reader\n",
    "read_file = reader(opened_file)\n",
    "apps_data = list(read_file)"
   ]
  },
  {
   "cell_type": "code",
   "execution_count": 7,
   "id": "c9e043f4-f06f-4376-93ae-73b9b6086a1d",
   "metadata": {},
   "outputs": [
    {
     "name": "stdout",
     "output_type": "stream",
     "text": [
      "{'0 - 10 MB': 0, '10 - 50 MB': 0, '50 - 100 MB': 0, '100 - 500 MB': 0, '500 MB +': 0}\n"
     ]
    }
   ],
   "source": [
    "data_sizes = {'0 - 10 MB': 0, '10 - 50 MB': 0, '50 - 100 MB': 0,\n",
    "                    '100 - 500 MB': 0, '500 MB +': 0}\n",
    "print(data_sizes)"
   ]
  },
  {
   "cell_type": "code",
   "execution_count": null,
   "id": "59c9ccac-8da4-402b-b0b9-4c72a3b2d7a8",
   "metadata": {},
   "outputs": [],
   "source": [
    "opened_file = open('AppleStore.csv')\n",
    "from csv import reader\n",
    "read_file = reader(opened_file)\n",
    "apps_data = list(read_file)\n",
    "rating_count_tot = {}\n",
    "for row in apps_data[1:]:\n",
    "    rating_count_tot = float(row[5])\n",
    "    if rating_count_tot <= 1000000:\n",
    "        rating_count_tot['0 - 10 MB'] += 1\n",
    "    elif 10000000 < rating_count_tot <= 50000000:\n",
    "        rating_count_tot['10 - 50 MB'] += 1\n",
    "    elif 50000000 < rating_count_tot <= 100000000:\n",
    "        rating_count_tot['50 - 100 MB'] += 1\n",
    "    elif 100000000 < rating_count_tot <= 500000000:\n",
    "        rating_count_tot['100 - 500 MB'] += 1\n",
    "    elif rating_count_tot > 500000000:\n",
    "        rating_count_tot['500 MB +'] += 1\n",
    "    \n",
    "print(min(rating_count_tot))\n",
    "print(max(rating_count_tot))"
   ]
  },
  {
   "cell_type": "code",
   "execution_count": 17,
   "id": "52e87e36-969e-45b2-82b7-5e4f3e8c1b8a",
   "metadata": {},
   "outputs": [
    {
     "name": "stdout",
     "output_type": "stream",
     "text": [
      "(('John', 'Jenny'), ('Charles', 'Christy'), ('Mike', 'Monica'))\n"
     ]
    }
   ],
   "source": [
    "a = (\"John\", \"Charles\", \"Mike\")\n",
    "b = (\"Jenny\", \"Christy\", \"Monica\")\n",
    "x = zip(a, b)\n",
    "print(tuple(x))"
   ]
  },
  {
   "cell_type": "code",
   "execution_count": null,
   "id": "b1323334-f4bd-4074-990a-538eb0bd8cb5",
   "metadata": {},
   "outputs": [],
   "source": [
    "a_list = [4444, 8897, 6340, 9896, 4835, 4324, 10, 6445,\n",
    "          661, 1246, 1000, 7429, 1376, 8121, 647, 1280,\n",
    "          3993, 4881, 9500, 6701, 1199, 6251, 4432, 37]\n",
    "sum_manual = 0\n",
    "for i in a_list :\n",
    "    sum_manual += i\n",
    "    \n",
    "print(sum_manual)\n",
    "print(sum(a_list))\n",
    "    "
   ]
  },
  {
   "cell_type": "code",
   "execution_count": null,
   "id": "df15e5ca-5710-4dd2-8d03-3d6683546349",
   "metadata": {},
   "outputs": [],
   "source": [
    "ratings = ['4+', '4+', '4+', '9+', '12+', '12+', '17+', '17+']\n",
    "content_ratings = {}\n",
    "for i in ratings:\n",
    "    if i in content_ratings:\n",
    "        content_ratings[i] += 1\n",
    "    else:\n",
    "        content_ratings[i] = 1\n",
    "print(content_ratings)    "
   ]
  },
  {
   "cell_type": "code",
   "execution_count": 33,
   "id": "74beb5ba-20a3-4e9c-865a-d7f02b996a0d",
   "metadata": {},
   "outputs": [
    {
     "name": "stdout",
     "output_type": "stream",
     "text": [
      "July 15, 2006\n",
      "February 4, 2004\n",
      "June 9, 1949\n"
     ]
    }
   ],
   "source": [
    "def date(month, day, year):\n",
    "    return month + \" \" + str(day)+ \", \" + str(year)\n",
    "print(date(\"July\", 15, 2006))\n",
    "print(date(\"February\", 4, 2004))\n",
    "print(date(\"June\", 9, 1949))"
   ]
  },
  {
   "cell_type": "code",
   "execution_count": 31,
   "id": "71bff0d2-5e74-4b8c-aec2-1ae9933249d0",
   "metadata": {},
   "outputs": [
    {
     "name": "stdout",
     "output_type": "stream",
     "text": [
      "36\n",
      "49\n"
     ]
    }
   ],
   "source": [
    "def square(a_number):\n",
    "    squared_number = a_number * a_number\n",
    "    return squared_number\n",
    "    \n",
    "print(square(6))\n",
    "print(square(7))\n",
    "\n",
    "    "
   ]
  },
  {
   "cell_type": "code",
   "execution_count": null,
   "id": "2e68439a-7277-45b2-baf5-b3e76e149a5e",
   "metadata": {},
   "outputs": [],
   "source": [
    "content_ratings = {}\n",
    "ratings = ['4+', '4+', '4+', '9+', '9+', '12+', '17+']\n",
    "\n",
    "for c_rating in ratings:\n",
    "    if c_rating in content_ratings:\n",
    "        content_ratings[c_rating] += 1\n",
    "    else:\n",
    "        content_ratings[c_rating] = 1\n",
    "\n",
    "print(content_ratings)"
   ]
  },
  {
   "cell_type": "code",
   "execution_count": null,
   "id": "48d85a0d-3cf6-4974-9c58-b95f5ccdad47",
   "metadata": {},
   "outputs": [],
   "source": [
    "opened_file = open('AppleStore.csv')\n",
    "from csv import reader\n",
    "read_file = reader(opened_file)\n",
    "apps_data = list(read_file)\n",
    "\n",
    "def extract(index):\n",
    "    column = []    \n",
    "    for row in apps_data[1:]:\n",
    "        value = row[index]\n",
    "        column.append(value)    \n",
    "    return column\n",
    "\n",
    "genres = extract(11)\n",
    "def freq_table(full):\n",
    "    f_table = {}\n",
    "    for i in full:\n",
    "        if i in f_table:\n",
    "            f_table[i] += 1\n",
    "        else:\n",
    "            f_table[i] = 1\n",
    "    return f_table\n",
    "genres_ft = freq_table(genres)\n",
    "print(extract)\n",
    "print(freq_table)\n",
    "        "
   ]
  },
  {
   "cell_type": "code",
   "execution_count": null,
   "id": "f74ac14e-721d-4164-85ad-0ec257442de2",
   "metadata": {},
   "outputs": [],
   "source": [
    "opened_file = open('AppleStore.csv')\n",
    "from csv import reader\n",
    "read_file = reader(opened_file)\n",
    "apps_data = list(read_file)\n",
    "def freq_table(index):\n",
    "    frequency_table = {}\n",
    "    \n",
    "    for row in apps_data[1:]:\n",
    "        value = row[index]\n",
    "        if value in frequency_table:\n",
    "            frequency_table[value] += 1\n",
    "        else:\n",
    "            frequency_table[value] = 1\n",
    "            \n",
    "    return frequency_table\n",
    "ratings_ft = freq_table(7)\n",
    "print(ratings_ft)"
   ]
  },
  {
   "cell_type": "code",
   "execution_count": null,
   "id": "c713a86c-b6e7-4ca0-96bc-7867d47e92df",
   "metadata": {},
   "outputs": [],
   "source": [
    "opened_file = open('AppleStore.csv')\n",
    "from csv import reader\n",
    "read_file = reader(opened_file)\n",
    "apps_data = list(read_file)\n",
    "\n",
    "def freq_table(data_set, index):\n",
    "    frequency_table = {}\n",
    "    \n",
    "    for row in data_set[1:]:\n",
    "        value = row[index]\n",
    "        if value in frequency_table:\n",
    "            frequency_table[value] += 1\n",
    "        else:\n",
    "            frequency_table[value] = 1\n",
    "        \n",
    "    return frequency_table\n",
    "content_ratings_ft = freq_table(apps_data, 10)\n",
    "ratings_ft = freq_table(apps_data , 7)\n",
    "genres_ft = freq_table(apps_data, 11)"
   ]
  },
  {
   "cell_type": "code",
   "execution_count": 35,
   "id": "182959e9-49bb-4d83-ae28-6d8e1e083b7b",
   "metadata": {},
   "outputs": [],
   "source": [
    "def find_sum(a_list):\n",
    "    a_sum = 0\n",
    "    for element in a_list:\n",
    "        a_sum += float(element)\n",
    "    return a_sum\n",
    "\n",
    "def find_length(a_list):\n",
    "    length = 0\n",
    "    for element in a_list:\n",
    "        length += 1\n",
    "    return length"
   ]
  },
  {
   "cell_type": "code",
   "execution_count": null,
   "id": "4b626345-ae94-429c-b78d-dab0753c88a8",
   "metadata": {},
   "outputs": [],
   "source": [
    "opened_file = open('AppleStore.csv')\n",
    "from csv import reader\n",
    "read_file = reader(opened_file)\n",
    "apps_data = list(read_file)\n",
    "\n",
    "def extract(data_set, index):\n",
    "    column = []    \n",
    "    for row in data_set[1:]:\n",
    "        value = row[index]\n",
    "        column.append(value)    \n",
    "    return column\n",
    "\n",
    "def find_sum(a_list):\n",
    "    a_sum = 0\n",
    "    for element in a_list:\n",
    "        a_sum += float(element)\n",
    "    return a_sum\n",
    "\n",
    "def find_length(a_list):\n",
    "    length = 0\n",
    "    for element in a_list:\n",
    "        length += 1\n",
    "    return length\n",
    "def mean(data_set, index):\n",
    "    i = extract(data_set, index)\n",
    "    a = find_sum(i)\n",
    "    b = find_length(i)\n",
    "    c = a / b\n",
    "    return c\n",
    "avg_price = mean(apps_data, 4)\n"
   ]
  },
  {
   "cell_type": "code",
   "execution_count": 41,
   "id": "bc4f8c01-5437-4bd8-913e-307bcd8a1989",
   "metadata": {},
   "outputs": [
    {
     "name": "stdout",
     "output_type": "stream",
     "text": [
      "3.4\n",
      "0.23\n",
      "921.22252\n"
     ]
    }
   ],
   "source": [
    "one_decimal = round(3.43, 1)\n",
    "two_decimals = round(0.23321, 2 )\n",
    "five_decimals = round(921.2225227, 5)\n",
    "print(one_decimal)\n",
    "print(two_decimals)\n",
    "print(five_decimals)"
   ]
  },
  {
   "cell_type": "code",
   "execution_count": null,
   "id": "d19d15f4-740c-4c44-9659-cbe70859d3f6",
   "metadata": {},
   "outputs": [],
   "source": [
    "def open_dataset(file_name = 'AppleStore.csv' ):\n",
    "    \n",
    "    opened_file = open(file_name)\n",
    "    from csv import reader\n",
    "    read_file = reader(opened_file)\n",
    "    data = list(read_file)\n",
    "    \n",
    "    return data\n",
    "apps_data = open_dataset()\n",
    "print(apps_data)"
   ]
  },
  {
   "cell_type": "code",
   "execution_count": null,
   "id": "e0c8e2d8-9185-4465-9bb2-16eef06b2089",
   "metadata": {},
   "outputs": [],
   "source": [
    "def open_dataset(file_name='AppleStore.csv', header=True):        \n",
    "    opened_file = open(file_name)\n",
    "    from csv import reader\n",
    "    read_file = reader(opened_file)\n",
    "    data = list(read_file)\n",
    "    \n",
    "    if header:\n",
    "        return data[1:]\n",
    "    else:\n",
    "        return data"
   ]
  },
  {
   "cell_type": "code",
   "execution_count": null,
   "id": "dfb1a703-26f1-4c78-b374-52a6ae624489",
   "metadata": {},
   "outputs": [],
   "source": [
    "def open_dataset(file_name='AppleStore.csv', header=True):        \n",
    "    opened_file = open(file_name)\n",
    "    from csv import reader\n",
    "    read_file = reader(opened_file)\n",
    "    data = list(read_file)\n",
    "    \n",
    "    if header:\n",
    "        return data[1:]\n",
    "    else:\n",
    "        return data\n",
    "apps_data = list(open_dataset(\"AppleStore.csv\", header = True))    \n",
    "    "
   ]
  },
  {
   "cell_type": "code",
   "execution_count": null,
   "id": "ec5688bc-2ed0-4cca-9eb7-53ee67ef1e95",
   "metadata": {},
   "outputs": [],
   "source": [
    "def pythagorean(a , b):\n",
    "    a_squared = a**2\n",
    "    b_squared = b**2\n",
    "    c_squared = a_squared + b_squared\n",
    "    return a_squared, b_squared, c_squared\n",
    "print(pythagorean(5, 12))    \n",
    "    "
   ]
  },
  {
   "cell_type": "code",
   "execution_count": null,
   "id": "07903fc1-932f-43a5-a01b-13eeb44bd7b5",
   "metadata": {},
   "outputs": [],
   "source": [
    "def open_dataset(file_name='AppleStore.csv', header=True):        \n",
    "    opened_file = open(file_name)\n",
    "    from csv import reader\n",
    "    read_file = reader(opened_file)\n",
    "    data = list(read_file)\n",
    "    \n",
    "    if header:\n",
    "        return data[0], data[1:]\n",
    "    else:\n",
    "        return data\n",
    "\n",
    "header, apps_data = open_dataset(file_name ='AppleStore.csv', header=True)\n",
    "\n",
    "    "
   ]
  },
  {
   "cell_type": "code",
   "execution_count": 45,
   "id": "6f5a1e52-844a-48d8-8938-c3b7de143175",
   "metadata": {},
   "outputs": [
    {
     "name": "stdout",
     "output_type": "stream",
     "text": [
      "3.14\n",
      "10\n"
     ]
    }
   ],
   "source": [
    "x = 10\n",
    "\n",
    "def print_constant():\n",
    "    x = 3.14\n",
    "    print(x)\n",
    "\n",
    "print_constant()\n",
    "print(x)"
   ]
  },
  {
   "cell_type": "code",
   "execution_count": 49,
   "id": "2d9c6015-5731-4977-b9f2-197692bf4f2a",
   "metadata": {},
   "outputs": [
    {
     "name": "stdout",
     "output_type": "stream",
     "text": [
      "2.72\n",
      "1000\n",
      "50\n"
     ]
    }
   ],
   "source": [
    "e = 'mathematical constant'\n",
    "a_sum = 1000\n",
    "length = 50\n",
    "def exponential(x):\n",
    "    e = 2.72 \n",
    "    print(e)\n",
    "    return (e, x)\n",
    "result = exponential(5)\n",
    "def divide():\n",
    "    print(a_sum)\n",
    "    print(length)\n",
    "    return (a_sum, length)    \n",
    "result_2 = divide()"
   ]
  },
  {
   "cell_type": "code",
   "execution_count": 57,
   "id": "90cdf354-571b-4f97-a7e6-327f1b489bc4",
   "metadata": {},
   "outputs": [
    {
     "name": "stdout",
     "output_type": "stream",
     "text": [
      "Welcome to Dataquest!\n",
      "Welcome to Jupyter Notebook!\n",
      "Welcome to Python!\n"
     ]
    }
   ],
   "source": [
    "def welcome(a_string):\n",
    "    print(\"Welcome to \" + a_string + \"!\")\n",
    "dq = \"Dataquest\"  \n",
    "jn = \"Jupyter Notebook\"\n",
    "py = \"Python\"\n",
    "welcome(dq)\n",
    "welcome(jn)\n",
    "welcome(py)"
   ]
  },
  {
   "cell_type": "code",
   "execution_count": null,
   "id": "c430e3ee-95a2-4862-83c4-ee2c669f2efd",
   "metadata": {},
   "outputs": [],
   "source": [
    "# open the file and make it a list\n",
    "f = open(\"nyc_taxis.csv\", \"r\")\n",
    "taxi_list = list(csv.reader(f))\n",
    "\n",
    "# remove the header row\n",
    "taxi_list = taxi_list[1:]\n",
    "\n",
    "# convert all values to floats\n",
    "converted_taxi_list = []\n",
    "for row in taxi_list:\n",
    "    converted_row = []\n",
    "    for item in row:\n",
    "        converted_row.append(float(item))\n",
    "    converted_taxi_list.append(converted_row)\n",
    "\n",
    "# convert the list of lists to an ndarray\n",
    "taxi = np.array(converted_taxi_list)"
   ]
  },
  {
   "cell_type": "code",
   "execution_count": null,
   "id": "edcd9b0a-3693-40a3-9bf4-88705d5a4f2f",
   "metadata": {},
   "outputs": [],
   "source": [
    "taxi = np.genfromtxt('nyc_taxis.csv', delimiter=',')\n",
    "taxi_header_removed = taxi[1:]\n",
    "removed_shape = taxi_header_removed.shape \n",
    "taxi_header_skipped = np.genfromtxt('nyc_taxis.csv', delimiter=',', skip_header=1)\n",
    "skip_header = taxi_header_skipped.shape \n",
    "skipped_shape = taxi_header_skipped\n",
    "print(taxi_header_removed[:5])\n",
    "print(taxi_header_skipped[:5])"
   ]
  },
  {
   "cell_type": "code",
   "execution_count": null,
   "id": "ba61178d-0c6b-421a-bd05-00b10b115ee7",
   "metadata": {},
   "outputs": [],
   "source": [
    "pickup_month = taxi[:, 1]\n",
    "\n",
    "january_bool = pickup_month == 1\n",
    "january = pickup_month[january_bool]\n",
    "january_rides = january.shape[0]\n",
    "february_bool = pickup_month  == 2\n",
    "february = pickup_month[february_bool]\n",
    "february_rides = february.shape[0]\n"
   ]
  },
  {
   "cell_type": "code",
   "execution_count": null,
   "id": "824afd25-5826-4474-b241-46fdbc6f28e4",
   "metadata": {},
   "outputs": [],
   "source": [
    "import numpy as np\n",
    "tip_amount = taxi[:, 12]\n",
    "tip_bool = tip_amount > 20\n",
    "top_tips = taxi[tip_bool  , 5:14]   "
   ]
  },
  {
   "cell_type": "code",
   "execution_count": null,
   "id": "ee3fd915-48f4-4497-b8c9-c9b64bacbc6b",
   "metadata": {},
   "outputs": [],
   "source": [
    "taxi_copy = taxi.copy()\n",
    "taxi_copy[1066 ,5] = 1 \n",
    "taxi_copy[:, 0] = 16\n",
    "taxi_copy[[550,551], 7]  = np.mean(7)"
   ]
  },
  {
   "cell_type": "code",
   "execution_count": null,
   "id": "d5d19241-5ded-496c-943b-566c9fdcac6d",
   "metadata": {},
   "outputs": [],
   "source": [
    "taxi_copy = taxi.copy()\n",
    "trip_length =  taxi_copy[:, 8] \n",
    "trip_length[trip_length < 60] = 0  "
   ]
  },
  {
   "cell_type": "code",
   "execution_count": 61,
   "id": "5a876de7-a240-46fc-a015-6619d73bed6f",
   "metadata": {},
   "outputs": [],
   "source": [
    "import numpy as np"
   ]
  },
  {
   "cell_type": "code",
   "execution_count": 67,
   "id": "ca010c88-9721-4e5e-96f6-c4eae0e903a6",
   "metadata": {},
   "outputs": [],
   "source": [
    "c = np.array([[1,2,3],\n",
    "               [4,5,6],\n",
    "               [7,8,9]])"
   ]
  },
  {
   "cell_type": "code",
   "execution_count": 69,
   "id": "5635eb4a-5157-4cb4-b4f9-1778e10353a7",
   "metadata": {},
   "outputs": [
    {
     "data": {
      "text/plain": [
       "array([[1, 2, 3],\n",
       "       [4, 5, 6],\n",
       "       [7, 8, 9]])"
      ]
     },
     "execution_count": 69,
     "metadata": {},
     "output_type": "execute_result"
    }
   ],
   "source": [
    "c"
   ]
  },
  {
   "cell_type": "code",
   "execution_count": 71,
   "id": "1e2d0a95-a3f8-407d-97e1-b30218c0a9a2",
   "metadata": {},
   "outputs": [
    {
     "data": {
      "text/plain": [
       "array([False,  True,  True])"
      ]
     },
     "execution_count": 71,
     "metadata": {},
     "output_type": "execute_result"
    }
   ],
   "source": [
    "c[:,1]>2"
   ]
  },
  {
   "cell_type": "code",
   "execution_count": 73,
   "id": "e5434212-ab96-4a48-ac40-7aa6e28718d2",
   "metadata": {},
   "outputs": [],
   "source": [
    "mymask = [False,  True,  True]"
   ]
  },
  {
   "cell_type": "code",
   "execution_count": 79,
   "id": "9d9d97b1-a5f3-4f29-a0f6-8b0bd960011c",
   "metadata": {},
   "outputs": [],
   "source": [
    "c[mymask,1]=99"
   ]
  },
  {
   "cell_type": "code",
   "execution_count": 81,
   "id": "a2388ae9-c85d-4e98-8ab0-33887f7b221f",
   "metadata": {},
   "outputs": [
    {
     "data": {
      "text/plain": [
       "array([[ 1,  2,  3],\n",
       "       [ 4, 99,  6],\n",
       "       [ 7, 99,  9]])"
      ]
     },
     "execution_count": 81,
     "metadata": {},
     "output_type": "execute_result"
    }
   ],
   "source": [
    "c"
   ]
  },
  {
   "cell_type": "code",
   "execution_count": null,
   "id": "7113ef44-d963-4acd-b988-8773c6e28f9d",
   "metadata": {},
   "outputs": [],
   "source": [
    "# create a new array filled with `0`\n",
    "zeros = np.zeros([taxi.shape[0], 1])\n",
    "# append the array to the taxi data to create a new column\n",
    "taxi_modified = np.concatenate([taxi, zeros], axis=1)\n",
    "# inspect the last five columns of the first ten rows\n",
    "print(taxi_modified[:10, -5:])"
   ]
  },
  {
   "cell_type": "code",
   "execution_count": null,
   "id": "adf91794-f04d-407c-903e-d02142c46aa7",
   "metadata": {},
   "outputs": [],
   "source": [
    "import numpy as np\n",
    "pickup_location_code = 5 \n",
    "jfk_mask = taxi[: , pickup_location_code] == 2\n",
    "jfk = taxi[jfk_mask]\n",
    "jfk_count = len(jfk)\n",
    " \n",
    "laguardia_mask =  taxi[: , pickup_location_code] == 3\n",
    "laguardia = taxi[laguardia_mask]\n",
    "laguardia_count = len(laguardia)\n",
    "\n",
    "newark_mask = taxi[: , pickup_location_code] == 1\n",
    "newark = taxi[newark_mask]\n",
    "newark_count = len(newark)\n",
    "if jfk_count > laguardia_count and jfk_count > newark_count:\n",
    "     busiest_airport = \"jfk\"\n",
    "elif laguardia_count > jfk_count and laguardia_count > newark_count:\n",
    "     busiest_airport = \"laguardia\"\n",
    "else:\n",
    "     busiest_airport = \"newark\"\n",
    "\n",
    "print(f\"\\nBusiest airport: {busiest_airport}\")"
   ]
  },
  {
   "cell_type": "code",
   "execution_count": null,
   "id": "577694c5-c8b0-43e7-aef6-6feb38b72d0f",
   "metadata": {},
   "outputs": [],
   "source": [
    "trip_distance = taxi[:, 7] # trip distance in miles\n",
    "trip_length = taxi[:, 8] / 3600 # trip length in hours\n",
    "trip_mph = trip_distance / trip_length # average trip speed in mph\n",
    "cleaned_taxi_mask = trip_mph  < 100\n",
    "cleaned_taxi = taxi[cleaned_taxi_mask]\n",
    "mean_distance = cleaned_taxi[:, 7].mean() \n",
    "mean_length = cleaned_taxi[:, 8].mean()\n",
    "mean_total_amount = cleaned_taxi[:, -2].mean()"
   ]
  },
  {
   "cell_type": "code",
   "execution_count": null,
   "id": "dcbf9651-27e0-4563-b91c-390095d32277",
   "metadata": {},
   "outputs": [],
   "source": [
    "import pandas as pd\n",
    "f500 = pd.read_csv('f500.csv', index_col=0)\n",
    "f500.index.name = None\n",
    "f500_type = type(f500)\n",
    "f500_shape = f500.shape\n",
    "print(f500_type)"
   ]
  },
  {
   "cell_type": "code",
   "execution_count": null,
   "id": "e7e1e023-e355-47f5-83dd-8770bea5e7d2",
   "metadata": {},
   "outputs": [],
   "source": [
    "f500.info()\n",
    "float64_dtype = sum(f500.dtypes == 'float64') \n",
    "int64_dtype = sum(f500.dtypes == 'int64')\n",
    "object_dtype = sum(f500.dtypes == object)"
   ]
  },
  {
   "cell_type": "code",
   "execution_count": null,
   "id": "94d1bedb-cacb-417d-8a41-a5d1c1bcd912",
   "metadata": {},
   "outputs": [],
   "source": [
    "industries = f500.loc[:, 'industry']\n",
    "industries_type = type(industries)"
   ]
  },
  {
   "cell_type": "code",
   "execution_count": null,
   "id": "f89067f7-f815-4c67-9ee5-3c6ad3d0e007",
   "metadata": {},
   "outputs": [],
   "source": [
    "toyota = f500.loc['Toyota Motor',:]\n",
    "drink_companies = f500.loc[[\"Anheuser-Busch InBev\", \"Coca-Cola\", \"Heineken Holding\"]]\n",
    "middle_companies = f500.loc[\"Tata Motors\":\"Nationwide\"]"
   ]
  },
  {
   "cell_type": "code",
   "execution_count": null,
   "id": "375a017c-cc81-4483-a283-a04e22a1a062",
   "metadata": {},
   "outputs": [],
   "source": [
    "countries = f500['country']\n",
    "country_counts = countries.value_counts()\n",
    "top_country = \"USA\"\n",
    "hq_locations = f500['hq_location']\n",
    "hql_counts = hq_locations.value_counts()\n",
    "top_hq_city = \"City\""
   ]
  },
  {
   "cell_type": "code",
   "execution_count": null,
   "id": "0e732e72-bde9-410e-be3c-35521feba7b4",
   "metadata": {},
   "outputs": [],
   "source": [
    "countries = f500[\"country\"]\n",
    "country_counts = countries.value_counts()\n",
    "india = country_counts.loc[\"India\"] \n",
    "print(type(india))\n",
    "north_america = country_counts.loc[[\"USA\", \"Canada\", \"Mexico\"]]\n",
    "print(type(north_america))\n",
    "japan_to_spain = country_counts.loc[\"Japan\":\"Spain\"]\n",
    "print(type(japan_to_spain))"
   ]
  },
  {
   "cell_type": "code",
   "execution_count": null,
   "id": "08b7016b-9828-4763-82a9-617bb19792c2",
   "metadata": {},
   "outputs": [],
   "source": [
    "big_movers = f500.loc[[\"Aviva\", \"HP\", \"JD.com\", \"BHP Billiton\"], [\"rank\", \"previous_rank\"]]\n",
    "bottom_companies = f500.loc[\"National Grid\" :\"AutoNation\", [\"rank\",\"sector\",\"country\"]]\n",
    "revenue_giants = f500.loc[[\"Apple\", \"Industrial & Commercial Bank of China\", \"China Construction Bank\",\"Agricultural Bank of China\"],'revenues':'profit_change']"
   ]
  },
  {
   "cell_type": "code",
   "execution_count": null,
   "id": "8b25d8a6-0c5c-47a9-b17f-15c23d9c75ea",
   "metadata": {},
   "outputs": [],
   "source": [
    "import csv\n",
    "import numpy as np\n",
    " \n",
    "# imported nyc_taxi.csv as a list of lists\n",
    "f = open(\"nyc_taxis.csv\", \"r\")\n",
    "taxi_list = list(csv.reader(f))\n",
    "\n",
    "# remove the header row\n",
    "taxi_list = taxi_list[1:]\n",
    "\n",
    "# convert all values to floats\n",
    "converted_taxi_list = []\n",
    "for row in taxi_list:\n",
    "    converted_row = []\n",
    "    for element in row:\n",
    "        converted_row.append(float(element))\n",
    "    converted_taxi_list.append(converted_row)\n",
    "\n",
    "# start writing your code below this comment\n",
    "taxi = np.array(converted_taxi_list)"
   ]
  },
  {
   "cell_type": "code",
   "execution_count": null,
   "id": "f4e6e29c-62ba-4ea0-9b4f-13d88eeaf400",
   "metadata": {},
   "outputs": [],
   "source": [
    "columns_1_4_7 = taxi[:,[1, 4, 7]]\n",
    "row_99_columns_5_to_8 = taxi[99,5:9] \n",
    "rows_100_to_200_column_14 = taxi[100:201,14]"
   ]
  },
  {
   "cell_type": "code",
   "execution_count": null,
   "id": "62caf9c9-1ede-4201-912c-1658d2ba5479",
   "metadata": {},
   "outputs": [],
   "source": [
    "fare_amount = taxi[:, 9]\n",
    "fees_amount = taxi[:, 10]\n",
    "fare_and_fees = fare_amount + fees_amount\n",
    "print(fare_and_fees)"
   ]
  },
  {
   "cell_type": "code",
   "execution_count": null,
   "id": "113d7758-93cb-4a35-9dce-514edb7373b8",
   "metadata": {},
   "outputs": [],
   "source": [
    "trip_distance_miles = taxi[:, 7]\n",
    "trip_length_seconds = taxi[:, 8]\n",
    "\n",
    "trip_length_hours = trip_length_seconds / 3600 \n",
    "trip_mph = trip_distance_miles / trip_length_hours\n",
    "print(trip_mph[:10])"
   ]
  },
  {
   "cell_type": "code",
   "execution_count": null,
   "id": "30a4baff-2226-45ae-86ec-814e39e2bfa6",
   "metadata": {},
   "outputs": [],
   "source": [
    "mph_min = trip_mph.min()\n",
    "mph_max = trip_mph.max()\n",
    "mph_mean = trip_mph.mean()"
   ]
  },
  {
   "cell_type": "code",
   "execution_count": null,
   "id": "69b367a5-4098-4838-bbae-078685ad3b35",
   "metadata": {},
   "outputs": [],
   "source": [
    "# extract the first 5 rows only\n",
    "taxi_first_five = taxi[:5]\n",
    "# select columns: fare_amount, fees_amount, tolls_amount, and tip_amount\n",
    "fare_components = taxi_first_five[:, 9:13]\n",
    "fare_sums = fare_components.sum(axis=1)\n",
    "fare_totals = taxi_first_five[:,13]"
   ]
  },
  {
   "cell_type": "code",
   "execution_count": null,
   "id": "d2e267cc-71d8-45ac-b2d5-c3d8db7d8287",
   "metadata": {},
   "outputs": [],
   "source": [
    "f500['rank_change'] = f500['previous_rank'] - f500['rank']\n",
    "rank_change_desc = f500['rank_change'].describe()"
   ]
  },
  {
   "cell_type": "code",
   "execution_count": null,
   "id": "45e1053e-68a5-4112-836f-45c539ef5a82",
   "metadata": {},
   "outputs": [],
   "source": [
    "x_unit_length = 10\n",
    "y_unit_length = 1000\n",
    "x_coordinate_A = 70\n",
    "y_coordinate_B = 5000\n",
    "C_coordinates = [50,9000]"
   ]
  },
  {
   "cell_type": "code",
   "execution_count": null,
   "id": "85316b2f-cb7f-4e21-8a6c-06b38d6d8266",
   "metadata": {},
   "outputs": [],
   "source": [
    "industry_usa = f500[f500 ['country']=='USA'][\"industry\"].value_counts().head(2)\n",
    "\n",
    "\n",
    "\n",
    "sector_china = f500[f500['country']=='China']['sector'].value_counts().head(3)"
   ]
  },
  {
   "cell_type": "code",
   "execution_count": null,
   "id": "f3ccb1b7-9430-46bd-83cd-bed14b8b5f49",
   "metadata": {},
   "outputs": [],
   "source": [
    "import pandas as pd\n",
    "\n",
    "# read the dataset into a pandas dataframe\n",
    "f500 = pd.read_csv(\"f500.csv\", index_col=0)\n",
    "f500.index.name = None\n",
    "\n",
    "# replace 0 values in the \"previous_rank\" column with NaN\n",
    "f500.loc[f500[\"previous_rank\"] == 0, \"previous_rank\"] = np.nan"
   ]
  },
  {
   "cell_type": "code",
   "execution_count": null,
   "id": "c0002f8e-5549-4868-914f-7f08565c323d",
   "metadata": {},
   "outputs": [],
   "source": [
    "import pandas as pd\n",
    "f500 = pd.read_csv('f500.csv')\n",
    "f500.index.name = \"Company\"\n",
    "f500.columns.name = \"Metric\"\n",
    "f500.loc[f500[\"previous_rank\"] == 0,\"previous_rank\"] = np.nan"
   ]
  },
  {
   "cell_type": "code",
   "execution_count": null,
   "id": "24650e35-ab34-4a4b-89c4-35bb8228355c",
   "metadata": {},
   "outputs": [],
   "source": [
    "first_three_rows = f500.iloc[:3,:]\n",
    "first_seventh_row_slice = f500.iloc[[0,6],0:5]"
   ]
  },
  {
   "cell_type": "code",
   "execution_count": null,
   "id": "aa1d0ad5-2963-4d8f-8cfb-2e387cb800d8",
   "metadata": {},
   "outputs": [],
   "source": [
    "large_revenue = f500['revenues'] > 100000\n",
    "negative_profits = f500['profits'] < 0\n",
    "combined = large_revenue & negative_profits\n",
    "big_rev_neg_profit = f500.loc[combined]"
   ]
  },
  {
   "cell_type": "code",
   "execution_count": null,
   "id": "39c90755-d014-411e-a00a-47de58c943cc",
   "metadata": {},
   "outputs": [],
   "source": [
    "selected_rows = f500[f500['country']=='Japan'] \n",
    "sorted_rows = selected_rows.sort_values(\"profits\", ascending=False)\n",
    "top_japanese_company = sorted_rows.iloc[0][['company','profits']]\n",
    "print(top_japanese_company)\n",
    "                                        "
   ]
  },
  {
   "cell_type": "code",
   "execution_count": null,
   "id": "f0d73127-5875-4b89-948f-f1ca3254d966",
   "metadata": {},
   "outputs": [],
   "source": [
    "top_employer_by_country = {}\n",
    "countries = f500['country'].unique()\n",
    "for c in countries:\n",
    "    selected_rows = f500[f500['country']==c]\n",
    "    sorted_rows =               selected_rows.sort_values(\"employees\", ascending=False)\n",
    "    company = sorted_rows.iloc[0]['company']\n",
    "    top_employer_by_country[c]=company\n",
    "    "
   ]
  },
  {
   "cell_type": "code",
   "execution_count": null,
   "id": "c2ad8418-8483-4f69-9404-3616bd4249b1",
   "metadata": {},
   "outputs": [],
   "source": [
    "top_roa_by_sector = {}\n",
    "f500[\"roa\"] = f500[\"profits\"] / f500[\"assets\"] \n",
    "sectors = f500[\"sector\"].unique()\n",
    "for s in sectors:\n",
    "    selected_rows = f500[f500[\"sector\"] == s]\n",
    "    sort_rows = selected_rows.sort_values(\"roa\", ascending = False)\n",
    "    top_company = sort_rows.iloc[0][\"company\"]\n",
    "    top_roa_by_sector[s] = top_company\n",
    "    "
   ]
  },
  {
   "cell_type": "code",
   "execution_count": null,
   "id": "be0b6f61-8ea2-4284-b222-5e6fa8eb6f12",
   "metadata": {},
   "outputs": [],
   "source": [
    "import pandas as pd\n",
    "laptops = pd.read_csv('laptops.csv', encoding = \"latin-1\")\n",
    "new_columns = []\n",
    "for c in laptops.columns:\n",
    "    clean_c = c.strip()\n",
    "    new_columns.append(clean_c)\n",
    "laptops.columns = new_columns\n",
    "print(laptops.columns)"
   ]
  },
  {
   "cell_type": "code",
   "execution_count": null,
   "id": "d3e8d4e0-4ce8-4dd5-82b1-9849b3cbf92b",
   "metadata": {},
   "outputs": [],
   "source": [
    "laptops[\"screen_size\"] = laptops[\"screen_size\"].str.replace('\"', '')\n",
    "laptops[\"ram\"] = laptops[\"ram\"].str.replace('GB', ' ')\n",
    "print(laptops[\"ram\"].unique())\n"
   ]
  },
  {
   "cell_type": "code",
   "execution_count": null,
   "id": "da6c7355-455d-4d05-bced-888291a4a17f",
   "metadata": {},
   "outputs": [],
   "source": [
    "laptops[\"screen_size\"] = laptops[\"screen_size\"].astype(float)\n",
    "print(laptops['ram'].dtype)\n",
    "print(laptops['screen_size'].dtype)"
   ]
  },
  {
   "cell_type": "code",
   "execution_count": null,
   "id": "24563891-2bbc-4c26-a6b7-e15940c6d003",
   "metadata": {},
   "outputs": [],
   "source": [
    "laptops.rename({\"screen_size\": \"screen_size_inches\"}, axis=1, inplace=True)\n",
    "laptops.rename({'ram': 'ram_gb'}, axis=1, inplace=True)\n",
    "ram_gb_desc = laptops['ram_gb'].describe()"
   ]
  },
  {
   "cell_type": "code",
   "execution_count": null,
   "id": "8665fa53-7b40-4c93-8dc7-606ff33f3e77",
   "metadata": {},
   "outputs": [],
   "source": [
    "gpu_split = laptops['gpu'].str.split()\n",
    "laptops['gpu_manufacturer'] = gpu_split.str[0]\n",
    "gpu_manufacturer_counts = laptops['gpu_manufacturer'].value_counts()\n",
    "laptops['cpu_manufacturer'] = laptops['cpu'].str.split().str[0]\n",
    "cpu_manufacturer_counts = laptops['cpu_manufacturer'].value_counts()\n"
   ]
  },
  {
   "cell_type": "code",
   "execution_count": 84,
   "id": "c398889b-9f15-41ea-a4a2-0fe40955844c",
   "metadata": {},
   "outputs": [
    {
     "data": {
      "text/plain": [
       "'I am a programmer'"
      ]
     },
     "execution_count": 84,
     "metadata": {},
     "output_type": "execute_result"
    }
   ],
   "source": [
    "'I am a {}'.format('programmer')"
   ]
  },
  {
   "cell_type": "code",
   "execution_count": null,
   "id": "b979f327-cc55-494f-9050-3684bd195abf",
   "metadata": {},
   "outputs": [],
   "source": [
    "print(laptops['os'].unique())\n",
    "\n",
    "mapping_dict = {'Android': 'Android',\n",
    "  'Chrome OS': 'Chrome OS',\n",
    "  'Linux': 'Linux',\n",
    "  'Mac OS': 'macOS',\n",
    "  'No OS': 'No OS',\n",
    "  'Windows': 'Windows',\n",
    "  'macOS': 'macOS'}\n",
    "laptops['os'] = laptops['os'].map(arg=mapping_dict)\n",
    "laptops['os'].value_counts()"
   ]
  },
  {
   "cell_type": "code",
   "execution_count": null,
   "id": "a63d6c9e-eca5-42c9-847b-c6223997844b",
   "metadata": {},
   "outputs": [],
   "source": [
    "laptops_no_null_rows = laptops.dropna(axis=0)\n",
    "laptops_no_null_cols = laptops.dropna(axis=1)"
   ]
  },
  {
   "cell_type": "code",
   "execution_count": null,
   "id": "c690b42b-33ac-42eb-99e0-585223300742",
   "metadata": {},
   "outputs": [],
   "source": [
    "value_counts_before = laptops.loc[laptops[\"os_version\"].isnull(), \"os\"].value_counts()\n",
    "laptops.loc[laptops[\"os\"] == \"macOS\", \"os_version\"] = \"X\"\n",
    "laptops.loc[laptops['os'] == 'No OS', 'os_version'] = 'Not Applicable'\n",
    "value_counts_after = laptops.loc[laptops[\"os_version\"].isnull(), \"os\"].value_counts()"
   ]
  },
  {
   "cell_type": "code",
   "execution_count": null,
   "id": "76bf3e85-d354-4440-ad3d-06fcacd8f626",
   "metadata": {},
   "outputs": [],
   "source": [
    "month_number = [1, 2, 3, 4, 5, 6, 7]\n",
    "new_cases = [9926, 76246, 681488, 2336640,\n",
    "             2835147, 4226655, 6942042]\n",
    "\n",
    "import matplotlib.pyplot as plt\n",
    "plt.plot(month_number, new_cases)\n",
    "plt.show()"
   ]
  },
  {
   "cell_type": "code",
   "execution_count": null,
   "id": "a3e1d648-09ce-4f1b-aaaf-2481c7755b7d",
   "metadata": {},
   "outputs": [],
   "source": [
    "import pandas as pd\n",
    "who_time_series = pd.read_csv('WHO_time_series.csv')\n",
    "who_time_series['Date_reported'] = pd.to_datetime(who_time_series['Date_reported'])\n",
    "print(who_time_series.head(5))\n",
    "print(who_time_series.tail(5))\n",
    "who_time_series.info()"
   ]
  },
  {
   "cell_type": "code",
   "execution_count": null,
   "id": "469dd2d0-c30e-49f4-8ca8-9de4b8a0f152",
   "metadata": {},
   "outputs": [],
   "source": [
    "argentina = who_time_series[who_time_series['Country'] == 'Argentina']\n",
    "print(argentina.dtypes)\n",
    "plt.plot(argentina['Date_reported'],argentina['Cumulative_cases']) \n",
    "plt.title(\"Argentina: Cumulative Reported Cases\")\n",
    "plt.xlabel(\"Date\")\n",
    "plt.ylabel(\"Number of Cases\")\n",
    "plt.show()\n",
    "argentina_graph_type = 'exponential'"
   ]
  },
  {
   "cell_type": "code",
   "execution_count": null,
   "id": "40f1de6a-e657-41b9-953f-a471007bf840",
   "metadata": {},
   "outputs": [],
   "source": [
    "import pandas as pd\n",
    "import matplotlib.pyplot as plt\n",
    "\n",
    "bike_sharing = pd.read_csv('day.csv')\n",
    "bike_sharing['dteday'] = pd.to_datetime(bike_sharing['dteday'])\n",
    "plt.plot(bike_sharing['dteday'], bike_sharing['casual'],label='Casual')\n",
    "plt.plot(bike_sharing['dteday'], bike_sharing['registered'],label='Registered')\n",
    "plt.xticks(rotation=30)\n",
    "plt.ylabel('Bikes Rented')\n",
    "plt.xlabel('Date')\n",
    "plt.title('Bikes Rented: Casual vs. Registered')\n",
    "plt.legend()\n",
    "plt.show()"
   ]
  },
  {
   "cell_type": "code",
   "execution_count": null,
   "id": "c9f0fa8f-b5c1-45ee-97c8-5ecffb120196",
   "metadata": {},
   "outputs": [],
   "source": [
    "import pandas as pd\n",
    "import matplotlib.pyplot as plt\n",
    "\n",
    "bike_sharing = pd.read_csv('day.csv')\n",
    "bike_sharing['dteday'] = pd.to_datetime(bike_sharing['dteday'])\n",
    "temp_atemp_corr = bike_sharing['temp'].corr(bike_sharing['atemp'])\n",
    "wind_hum_corr = bike_sharing['windspeed'].corr(bike_sharing['hum'])\n",
    "plt.scatter(bike_sharing['temp'],bike_sharing['atemp'])\n",
    "plt.xlabel('Air Temperature')\n",
    "plt.ylabel('Feeling Temperature')\n",
    "plt.show()\n",
    "plt.scatter(bike_sharing['windspeed'],bike_sharing['hum'])\n",
    "plt.xlabel('Wind Speed')\n",
    "plt.ylabel('Humidity')\n",
    "plt.show()"
   ]
  },
  {
   "cell_type": "code",
   "execution_count": null,
   "id": "286fa7d1-5aa0-4eed-97a7-59f1c6afc2d8",
   "metadata": {},
   "outputs": [],
   "source": [
    "import pandas as pd\n",
    "import matplotlib.pyplot as plt\n",
    "bike_sharing = pd.read_csv('day.csv')\n",
    "# print(bike_sharing.corr(bike_sharing['weathersit'],bike_sharing['cnt'])\n",
    "print(bike_sharing[['weathersit','hum']].corr())"
   ]
  },
  {
   "cell_type": "code",
   "execution_count": null,
   "id": "0f75fc75-5bb7-4577-9518-b9f3d9298504",
   "metadata": {},
   "outputs": [],
   "source": [
    "import pandas as pd\n",
    "import matplotlib.pyplot as plt\n",
    "\n",
    "bike_sharing = pd.read_csv('day.csv')\n",
    "bike_sharing['dteday'] = pd.to_datetime(bike_sharing['dteday'])\n",
    "plt.scatter(bike_sharing['workingday'],bike_sharing['casual'])\n",
    "plt.title('Working Day Vs. Casual')\n",
    "plt.show()\n",
    "plt.scatter(bike_sharing['workingday'],bike_sharing['registered'])\n",
    "plt.title('Working Day Vs. Registered')\n",
    "plt.show()"
   ]
  },
  {
   "cell_type": "code",
   "execution_count": null,
   "id": "6ca09552-051d-4cbb-9dc6-b110d317c88b",
   "metadata": {},
   "outputs": [],
   "source": [
    "import pandas as pd\n",
    "import matplotlib.pyplot as plt\n",
    "\n",
    "bike_sharing = pd.read_csv('day.csv')\n",
    "bike_sharing['dteday'] = pd.to_datetime(bike_sharing['dteday'])\n",
    "weekday_averages = bike_sharing.groupby('weekday').mean()[['casual', 'registered']].reset_index() # It's not essential to understand how this code works, we'll cover this in a later course\n",
    "plt.bar(weekday_averages['weekday'],weekday_averages['registered'])\n",
    "plt.xticks(ticks=[0, 1, 2, 3, 4, 5,6], labels=['Sunday', 'Monday', 'Tuesday', 'Wednesday', 'Thursday', 'Friday', 'Saturday'], rotation=30)\n",
    "plt.show()\n",
    "        "
   ]
  },
  {
   "cell_type": "code",
   "execution_count": null,
   "id": "d4f17346-c157-41d0-8c09-dabd394dc6cc",
   "metadata": {},
   "outputs": [],
   "source": [
    "import pandas as pd\n",
    "import matplotlib.pyplot as plt\n",
    "\n",
    "bike_sharing = pd.read_csv('day.csv')\n",
    "bike_sharing['dteday'] = pd.to_datetime(bike_sharing['dteday'])\n",
    "plt.hist(bike_sharing['casual'])\n",
    "plt.show()"
   ]
  },
  {
   "cell_type": "code",
   "execution_count": null,
   "id": "ca9fd856-ec4e-4c80-ab40-fd9ff40304d7",
   "metadata": {},
   "outputs": [],
   "source": [
    "import pandas as pd\n",
    "traffic = pd.read_csv('traffic_sao_paulo.csv', sep=';')\n",
    "traffic.info()"
   ]
  },
  {
   "cell_type": "code",
   "execution_count": null,
   "id": "401f0cbf-8d58-403f-a08c-6f4f7773614c",
   "metadata": {},
   "outputs": [],
   "source": [
    "import matplotlib.pyplot as plt\n",
    "import pandas as pd\n",
    "traffic = pd.read_csv('traffic_sao_paulo.csv', sep=';')\n",
    "traffic['Slowness in traffic (%)'] = traffic['Slowness in traffic (%)'].str.replace(',', '.')\n",
    "traffic['Slowness in traffic (%)'] = traffic['Slowness in traffic (%)'].astype(float)\n",
    "traffic['Slowness in traffic (%)'].plot.hist()\n",
    "plt.title('Distribution of Slowness in traffic (%)')\n",
    "plt.xlabel('Slowness in traffic (%)')\n",
    "plt.show()"
   ]
  },
  {
   "cell_type": "code",
   "execution_count": null,
   "id": "2e43c739-877b-4711-8da6-3c9e8f07d326",
   "metadata": {},
   "outputs": [],
   "source": [
    "import pandas as pd\n",
    "import matplotlib.pyplot as plt\n",
    "\n",
    "traffic = pd.read_csv('traffic_sao_paulo.csv', sep=';')\n",
    "traffic['Slowness in traffic (%)'] = traffic['Slowness in traffic (%)'].str.replace(',', '.')\n",
    "traffic['Slowness in traffic (%)'] = traffic['Slowness in traffic (%)'].astype(float)\n",
    "\n",
    "incidents = traffic.drop(['Hour (Coded)', 'Slowness in traffic (%)'],axis=1)\n",
    "incidents.sum().plot.barh()\n",
    "plt.show()\n",
    "              "
   ]
  },
  {
   "cell_type": "code",
   "execution_count": null,
   "id": "01e38538-11ef-4d55-9dd3-79e7dfe236e8",
   "metadata": {},
   "outputs": [],
   "source": [
    "import pandas as pd\n",
    "import matplotlib.pyplot as plt\n",
    "\n",
    "traffic = pd.read_csv('traffic_sao_paulo.csv', sep=';')\n",
    "traffic['Slowness in traffic (%)'] = traffic['Slowness in traffic (%)'].str.replace(',', '.')\n",
    "traffic['Slowness in traffic (%)'] = traffic['Slowness in traffic (%)'].astype(float)\n",
    "\n",
    "traffic.plot.scatter(x='Slowness in traffic (%)',\n",
    "                     y='Lack of electricity')\n",
    "plt.show()\n",
    "traffic.plot.scatter(x='Slowness in traffic (%)', y='Point of flooding')\n",
    "plt.show()\n",
    "traffic.plot.scatter(x='Slowness in traffic (%)', y='Semaphore off')\n",
    "plt.show()\n",
    "                     "
   ]
  },
  {
   "cell_type": "code",
   "execution_count": null,
   "id": "85b8f159-7e56-4242-b4d6-4a7291c9ccc2",
   "metadata": {},
   "outputs": [],
   "source": [
    "import pandas as pd\n",
    "import matplotlib.pyplot as plt\n",
    "\n",
    "traffic = pd.read_csv('traffic_sao_paulo.csv', sep=';')\n",
    "traffic['Slowness in traffic (%)'] = traffic['Slowness in traffic (%)'].str.replace(',', '.')\n",
    "traffic['Slowness in traffic (%)'] = traffic['Slowness in traffic (%)'].astype(float)\n",
    "slowness_20_or_more = traffic[traffic['Slowness in traffic (%)'] > 20]\n",
    "slowness_20_or_more.drop(['Slowness in traffic (%)', 'Hour (Coded)'],axis=1,inplace=True)\n",
    "incident_frequencies = slowness_20_or_more.sum()\n",
    "incident_frequencies.plot.barh()\n",
    "plt.show()"
   ]
  },
  {
   "cell_type": "code",
   "execution_count": null,
   "id": "8f341fbb-54f8-4e80-865c-78e01d1ac863",
   "metadata": {},
   "outputs": [],
   "source": [
    "import pandas as pd\n",
    "import matplotlib.pyplot as plt\n",
    "import seaborn as sns\n",
    "housing = pd.read_csv('housing.csv')\n",
    "sns.set_theme()\n",
    "sns.relplot(data=housing, x='Gr Liv Area', y='SalePrice')\n",
    "plt.show()\n",
    "correlation = 'positive'"
   ]
  },
  {
   "cell_type": "code",
   "execution_count": null,
   "id": "dd077eee-e573-47ec-b9c3-12f79ec7e4a6",
   "metadata": {},
   "outputs": [],
   "source": [
    "import pandas as pd\n",
    "import seaborn as sns\n",
    "import matplotlib.pyplot as plt\n",
    "\n",
    "housing = pd.read_csv('housing.csv')\n",
    "sns.set_theme()\n",
    "sns.relplot(data=housing, x='Gr Liv Area', y='SalePrice',\n",
    "            hue='Overall Qual', palette='RdYlGn',\n",
    "            size='Garage Area', sizes=(1,300))\n",
    "plt.show()"
   ]
  },
  {
   "cell_type": "code",
   "execution_count": null,
   "id": "3ed93bc7-6a30-49b3-bbaa-14bf5a98c6cb",
   "metadata": {},
   "outputs": [],
   "source": [
    "import pandas as pd\n",
    "import matplotlib.pyplot as plt\n",
    "import seaborn as sns\n",
    "housing = pd.read_csv('housing.csv')\n",
    "sns.set_theme()\n",
    "sns.relplot(data=housing, x='Gr Liv Area', y='SalePrice')\n",
    "plt.show()\n",
    "correlation = 'positive'"
   ]
  },
  {
   "cell_type": "code",
   "execution_count": null,
   "id": "9b130c29-1cac-427e-9c97-0a7c23d7420c",
   "metadata": {},
   "outputs": [],
   "source": [
    "import pandas as pd\n",
    "import matplotlib.pyplot as plt\n",
    "\n",
    "traffic = pd.read_csv('traffic_sao_paulo.csv', sep=';')\n",
    "traffic['Slowness in traffic (%)'] = traffic['Slowness in traffic (%)'].str.replace(',', '.')\n",
    "traffic['Slowness in traffic (%)'] = traffic['Slowness in traffic (%)'].astype(float)\n",
    "\n",
    "days = ['Monday', 'Tuesday', 'Wednesday', 'Thursday', 'Friday']\n",
    "traffic_per_day = {}\n",
    "for i, day in zip(range(0, 135, 27), days):\n",
    "    each_day_traffic = traffic[i:i+27]\n",
    "    traffic_per_day[day] = each_day_traffic\n",
    "\n",
    "\n",
    "for day in days:\n",
    "    traffic_per_day[day].plot.line(x='Hour (Coded)',\n",
    "                                   y='Slowness in traffic (%)')\n",
    "    plt.title(day)\n",
    "    plt.ylim([0, 25])\n",
    "    plt.show()"
   ]
  },
  {
   "cell_type": "code",
   "execution_count": null,
   "id": "3e37375b-0aa9-499e-80c5-1bca3fa1451b",
   "metadata": {},
   "outputs": [],
   "source": [
    "import pandas as pd\n",
    "import matplotlib.pyplot as plt\n",
    "\n",
    "traffic = pd.read_csv('traffic_sao_paulo.csv', sep=';')\n",
    "traffic['Slowness in traffic (%)'] = traffic['Slowness in traffic (%)'].str.replace(',', '.')\n",
    "traffic['Slowness in traffic (%)'] = traffic['Slowness in traffic (%)'].astype(float)\n",
    "\n",
    "days = ['Monday', 'Tuesday', 'Wednesday', 'Thursday', 'Friday']\n",
    "traffic_per_day = {}\n",
    "for i, day in zip(range(0, 135, 27), days):\n",
    "    each_day_traffic = traffic[i:i+27]\n",
    "    traffic_per_day[day] = each_day_traffic\n",
    "\n",
    "\n",
    "for day in days:\n",
    "    plt.plot(traffic_per_day[day]['Hour (Coded)'],\n",
    "             traffic_per_day[day]['Slowness in traffic (%)'],\n",
    "             label=day)\n",
    "\n",
    "plt.legend()\n",
    "plt.show()"
   ]
  },
  {
   "cell_type": "code",
   "execution_count": null,
   "id": "75b0c31f-5345-4aa6-81ee-b87a468aab7e",
   "metadata": {},
   "outputs": [],
   "source": [
    "import pandas as pd\n",
    "import matplotlib.pyplot as plt\n",
    "\n",
    "traffic = pd.read_csv('traffic_sao_paulo.csv', sep=';')\n",
    "traffic['Slowness in traffic (%)'] = traffic['Slowness in traffic (%)'].str.replace(',', '.')\n",
    "traffic['Slowness in traffic (%)'] = traffic['Slowness in traffic (%)'].astype(float)\n",
    "\n",
    "plt.figure()\n",
    "plt.subplot(3, 2, 1)\n",
    "plt.subplot(3, 2, 2)\n",
    "plt.subplot(3, 2, 6)\n",
    "\n",
    "\n",
    "plt.subplot(3, 2, 3)\n",
    "plt.subplot(3, 2, 4)\n",
    "plt.subplot(3, 2, 5)\n",
    "plt.show()"
   ]
  },
  {
   "cell_type": "code",
   "execution_count": null,
   "id": "9da0c0c8-ff1f-4596-9b0c-89dc23d806ee",
   "metadata": {},
   "outputs": [],
   "source": [
    "import pandas as pd\n",
    "import matplotlib.pyplot as plt\n",
    "\n",
    "traffic = pd.read_csv('traffic_sao_paulo.csv', sep=';')\n",
    "traffic['Slowness in traffic (%)'] = traffic['Slowness in traffic (%)'].str.replace(',', '.')\n",
    "traffic['Slowness in traffic (%)'] = traffic['Slowness in traffic (%)'].astype(float)\n",
    "\n",
    "days = ['Monday', 'Tuesday', 'Wednesday', 'Thursday', 'Friday']\n",
    "traffic_per_day = {}\n",
    "for i, day in zip(range(0, 135, 27), days):\n",
    "    each_day_traffic = traffic[i:i+27]\n",
    "    traffic_per_day[day] = each_day_traffic\n",
    "\n",
    "\n",
    "plt.figure(figsize=(10,12))\n",
    "\n",
    "for i, day in zip(range(1,6), days):\n",
    "    plt.subplot(3, 2, i)\n",
    "    plt.plot(traffic_per_day[day]['Hour (Coded)'],\n",
    "        traffic_per_day[day]['Slowness in traffic (%)'])\n",
    "    plt.title(day)\n",
    "    plt.ylim([0,25])\n",
    "    \n",
    "plt.show()"
   ]
  },
  {
   "cell_type": "code",
   "execution_count": null,
   "id": "4ff6ed2a-1d54-4452-b965-dc2bdeff758d",
   "metadata": {},
   "outputs": [],
   "source": [
    "import pandas as pd\n",
    "import matplotlib.pyplot as plt\n",
    "\n",
    "traffic = pd.read_csv('traffic_sao_paulo.csv', sep=';')\n",
    "traffic['Slowness in traffic (%)'] = traffic['Slowness in traffic (%)'].str.replace(',', '.')\n",
    "traffic['Slowness in traffic (%)'] = traffic['Slowness in traffic (%)'].astype(float)\n",
    "\n",
    "days = ['Monday', 'Tuesday', 'Wednesday', 'Thursday', 'Friday']\n",
    "traffic_per_day = {}\n",
    "for i, day in zip(range(0, 135, 27), days):\n",
    "    each_day_traffic = traffic[i:i+27]\n",
    "    traffic_per_day[day] = each_day_traffic\n",
    "    \n",
    "plt.figure(figsize=(10,12))\n",
    "\n",
    "for i, day in zip(range(1,6), days):\n",
    "    plt.subplot(3, 2, i)\n",
    "    plt.plot(traffic_per_day[day]['Hour (Coded)'],\n",
    "        traffic_per_day[day]['Slowness in traffic (%)'])\n",
    "    plt.title(day)\n",
    "    plt.ylim([0,25])\n",
    "\n",
    "\n",
    "plt.subplot(3, 2, 6)\n",
    "\n",
    "for day in days:\n",
    "    plt.plot(traffic_per_day[day]['Hour (Coded)'],                                                                                                                                               \n",
    "             traffic_per_day[day]['Slowness in traffic (%)'],\n",
    "             label=day)                                                                                                                                                                                                                                                                                                                                                                                                                                                        \n",
    "    plt.ylim([0,25])\n",
    "\n",
    "plt.legend()\n",
    "plt.show()"
   ]
  },
  {
   "cell_type": "code",
   "execution_count": null,
   "id": "ad4642ce-ae58-4793-ae10-2d8d0a266f6b",
   "metadata": {},
   "outputs": [],
   "source": [
    "import pandas as pd\n",
    "import matplotlib.pyplot as plt\n",
    "top20_deathtoll = pd.read_csv('top20_deathtoll.csv')\n",
    "plt.barh(top20_deathtoll['Country_Other'],top20_deathtoll['Total_Deaths'])\n",
    "plt.show()"
   ]
  },
  {
   "cell_type": "code",
   "execution_count": null,
   "id": "32935e35-67e4-482b-b29e-745e6efd5020",
   "metadata": {},
   "outputs": [],
   "source": [
    "import pandas as pd\n",
    "import matplotlib.pyplot as plt\n",
    "\n",
    "top20_deathtoll = pd.read_csv('top20_deathtoll.csv')\n",
    "fig, ax =plt.subplots(figsize=(4.5, 6))\n",
    "ax.barh(top20_deathtoll['Country_Other'],top20_deathtoll['Total_Deaths'])\n",
    "plt.show()        "
   ]
  },
  {
   "cell_type": "code",
   "execution_count": null,
   "id": "93031a7f-00d2-4438-8761-94174750dd91",
   "metadata": {},
   "outputs": [],
   "source": [
    "import pandas as pd\n",
    "import matplotlib.pyplot as plt\n",
    "\n",
    "top20_deathtoll = pd.read_csv('top20_deathtoll.csv')\n",
    "\n",
    "fig, ax = plt.subplots(figsize=(4.5, 6))\n",
    "ax.barh(top20_deathtoll['Country_Other'],\n",
    "         top20_deathtoll['Total_Deaths'])\n",
    "for location in ['left', 'right', 'bottom', 'top']:\n",
    "    ax.spines[location].set_visible(False)\n",
    "ax.tick_params(bottom=False,left=False)\n",
    "plt.show()"
   ]
  },
  {
   "cell_type": "code",
   "execution_count": null,
   "id": "5d18b15f-608f-4178-a055-506aef3e4569",
   "metadata": {},
   "outputs": [],
   "source": [
    "import pandas as pd\n",
    "import matplotlib.pyplot as plt\n",
    "\n",
    "top20_deathtoll = pd.read_csv('top20_deathtoll.csv')\n",
    "\n",
    "fig, ax = plt.subplots(figsize=(4.5, 6))\n",
    "ax.barh(top20_deathtoll['Country_Other'],\n",
    "       top20_deathtoll['Total_Deaths'],height=0.45)\n",
    "\n",
    "for location in ['left', 'right', 'top', 'bottom']:\n",
    "    ax.spines[location].set_visible(False)\n",
    "    \n",
    "ax.tick_params(bottom=False, left=False)\n",
    "ax.set_xticks([0,150000,300000])\n",
    "plt.show()"
   ]
  },
  {
   "cell_type": "code",
   "execution_count": null,
   "id": "067ab99c-302d-46b1-9eca-e17b36665974",
   "metadata": {},
   "outputs": [],
   "source": [
    "import pandas as pd\n",
    "import matplotlib.pyplot as plt\n",
    "\n",
    "top20_deathtoll = pd.read_csv('top20_deathtoll.csv')\n",
    "\n",
    "fig, ax = plt.subplots(figsize=(4.5, 6))\n",
    "ax.barh(top20_deathtoll['Country_Other'],\n",
    "        top20_deathtoll['Total_Deaths'],\n",
    "        height=0.45, color='#af0b1e' )\n",
    "\n",
    "for location in ['left', 'right', 'top', 'bottom']:\n",
    "    ax.spines[location].set_visible(False)\n",
    "ax.xaxis.tick_top()    \n",
    "ax.tick_params(bottom=False, left=False, top=False)\n",
    "ax.tick_params(axis='x', colors='grey')\n",
    "ax.set_xticks([0, 150000, 300000])\n",
    "plt.show()"
   ]
  },
  {
   "cell_type": "code",
   "execution_count": null,
   "id": "3625fa63-da27-43ad-b9e4-32d12494e388",
   "metadata": {},
   "outputs": [],
   "source": [
    "import pandas as pd\n",
    "import matplotlib.pyplot as plt\n",
    "\n",
    "top20_deathtoll = pd.read_csv('top20_deathtoll.csv')\n",
    "\n",
    "fig, ax = plt.subplots(figsize=(4.5, 6))\n",
    "ax.barh(top20_deathtoll['Country_Other'],\n",
    "        top20_deathtoll['Total_Deaths'],\n",
    "        height=0.45, color='#af0b1e')\n",
    "\n",
    "for location in ['left', 'right', 'top', 'bottom']:\n",
    "    ax.spines[location].set_visible(False)\n",
    "    \n",
    "ax.set_xticks([0, 150000, 300000])\n",
    "ax.xaxis.tick_top()\n",
    "ax.tick_params(top=False, left=False)\n",
    "ax.tick_params(axis='x', colors='grey')\n",
    "ax.text(x=-80000, y=23.5, s='The Death Toll Worldwide Is 1.5M+', size=17, weight='bold')\n",
    "ax.text(x=-80000, y=22.5, s='Top 20 countries by death toll (December 2020)', size=12)\n",
    "plt.show()"
   ]
  },
  {
   "cell_type": "code",
   "execution_count": null,
   "id": "f1dbbfa1-8f08-45e2-bfd7-6d80246fc932",
   "metadata": {},
   "outputs": [],
   "source": [
    "import pandas as pd\n",
    "import matplotlib.pyplot as plt\n",
    "\n",
    "top20_deathtoll = pd.read_csv('top20_deathtoll.csv')\n",
    "\n",
    "fig, ax = plt.subplots(figsize=(4.5, 6))\n",
    "ax.barh(top20_deathtoll['Country_Other'],\n",
    "        top20_deathtoll['Total_Deaths'],\n",
    "        height=0.45, color='#af0b1e')\n",
    "\n",
    "for location in ['left', 'right', 'top', 'bottom']:\n",
    "    ax.spines[location].set_visible(False)\n",
    "    \n",
    "ax.set_xticks([0, 150000, 300000])\n",
    "ax.xaxis.tick_top()\n",
    "ax.tick_params(top=False, left=False)\n",
    "ax.tick_params(axis='x', colors='grey')\n",
    "ax.text(x=-80000, y=23.5,\n",
    "        s='The Death Toll Worldwide Is 1.5M+',\n",
    "        weight='bold', size=17)\n",
    "ax.text(x=-80000, y=22.5,\n",
    "        s='Top 20 countries by death toll (December 2020)',\n",
    "        size=12)\n",
    "ax.set_xticklabels(['0', '150,000', '300,000'])\n",
    "ax.set_yticklabels([])\n",
    "country_names = top20_deathtoll['Country_Other']\n",
    "for i,country in zip(range(0, 20), country_names):\n",
    "    ax.text(x=-80000, y=i-0.15, s=country)\n",
    "ax.axvline(x=150000, ymin=0.045, c='grey', alpha=0.5)\n",
    "plt.show()    \n"
   ]
  },
  {
   "cell_type": "code",
   "execution_count": null,
   "id": "ebe07f99-aeb2-4b21-ae68-0af92caeca18",
   "metadata": {},
   "outputs": [],
   "source": [
    "import pandas as pd\n",
    "import matplotlib.pyplot as plt\n",
    "\n",
    "death_toll = pd.read_csv('covid_avg_deaths.csv')\n",
    "fig, axes = plt.subplots(nrows=4, ncols=1, figsize=(6,8))\n",
    "for ax in axes:\n",
    "    ax.plot(death_toll['Month'],death_toll['New_deaths'])\n",
    "    ax.set_xticks([])\n",
    "    ax.set_yticks([])\n",
    "    ax.tick_params(axis='both')\n",
    "    for location in ['left', 'right','top','bottom']:\n",
    "        ax.spines[location].set_visible(False)\n",
    "plt.show("
   ]
  },
  {
   "cell_type": "code",
   "execution_count": null,
   "id": "3d6ea86a-b597-4bb8-bd94-b588a1e47f92",
   "metadata": {},
   "outputs": [],
   "source": [
    "import pandas as pd\n",
    "import matplotlib.pyplot as plt\n",
    "\n",
    "death_toll = pd.read_csv('covid_avg_deaths.csv')\n",
    "\n",
    "fig, axes = plt.subplots(nrows=4, ncols=1, figsize=(6,8))\n",
    "\n",
    "for ax in axes:\n",
    "    ax.plot(death_toll['Month'], death_toll['New_deaths'],\n",
    "            color='#af0b1e', alpha=0.1)\n",
    "    ax.set_yticklabels([])\n",
    "    ax.set_xticklabels([])\n",
    "    ax.tick_params(bottom=False, left=False) \n",
    "    for location in ['left', 'right', 'top', 'bottom']:\n",
    "        ax.spines[location].set_visible(False)\n",
    "\n",
    "axes[0].plot(death_toll['Month'][:3], death_toll['New_deaths'][:3],\n",
    "         color='#af0b1e', linewidth=2.5)\n",
    "axes[1].plot(death_toll['Month'][2:6], death_toll['New_deaths'][2:6],\n",
    "         color='#af0b1e', linewidth=2.5)\n",
    "axes[2].plot(death_toll['Month'][5:10], death_toll['New_deaths'][5:10],\n",
    "         color='#af0b1e', linewidth=2.5)\n",
    "axes[3].plot(death_toll['Month'][9:12], death_toll['New_deaths'][9:12],\n",
    "         color='#af0b1e', linewidth=2.5)\n",
    "plt.show()\n",
    "\n"
   ]
  },
  {
   "cell_type": "code",
   "execution_count": null,
   "id": "6edaf297-be3f-4f45-8631-d8d0f85b0bd9",
   "metadata": {},
   "outputs": [],
   "source": [
    "import pandas as pd\n",
    "import matplotlib.pyplot as plt\n",
    "\n",
    "death_toll = pd.read_csv('covid_avg_deaths.csv')\n",
    "\n",
    "fig, axes = plt.subplots(nrows=4, ncols=1, figsize=(6,8))\n",
    "\n",
    "for ax in axes:\n",
    "    ax.plot(death_toll['Month'], death_toll['New_deaths'],\n",
    "            color='#af0b1e', alpha=0.1)\n",
    "    ax.set_yticklabels([])\n",
    "    ax.set_xticklabels([])\n",
    "    ax.tick_params(bottom=False, left=False) \n",
    "    for location in ['left', 'right', 'top', 'bottom']:\n",
    "        ax.spines[location].set_visible(False)\n",
    "\n",
    "axes[0].plot(death_toll['Month'][:3], death_toll['New_deaths'][:3],\n",
    "         color='#af0b1e', linewidth=2.5)\n",
    "axes[1].plot(death_toll['Month'][2:6], death_toll['New_deaths'][2:6],\n",
    "         color='#af0b1e', linewidth=2.5)\n",
    "axes[2].plot(death_toll['Month'][5:10], death_toll['New_deaths'][5:10],\n",
    "         color='#af0b1e', linewidth=2.5)\n",
    "axes[3].plot(death_toll['Month'][9:12], death_toll['New_deaths'][9:12],\n",
    "         color='#af0b1e', linewidth=2.5)\n",
    "\n",
    "axes[0].text(0.5, -80, '0', alpha=0.5)\n",
    "axes[0].text(3.5, 2000, '1,844', alpha=0.5)\n",
    "axes[0].text(11.5, 2400, '2,247', alpha=0.5)\n",
    "\n",
    "axes[0].text(1.1, -300, 'Jan - Mar', color='#af0b1e',\n",
    "         weight='bold', rotation=3)\n",
    "axes[1].text(3.7, 800, 'Mar - Jun', color='#af0b1e',\n",
    "         weight='bold')\n",
    "axes[2].text(7.1, 500, 'Jun - Oct', color='#af0b1e',\n",
    "         weight='bold')\n",
    "axes[3].text(10.5, 600, 'Oct - Dec', color='#af0b1e',\n",
    "         weight='bold', rotation=45)\n",
    "plt.show()"
   ]
  },
  {
   "cell_type": "code",
   "execution_count": null,
   "id": "cf6e71f3-177c-44a0-b137-e00504963074",
   "metadata": {},
   "outputs": [],
   "source": [
    "ax.text(x=0.5, y= 3500, s='The virus kills 851 people each day', size=14, weight='bold')\n",
    "ax.text(x=0.5, y= 3150, s='Average number of daily deaths per month in the US', size=12)\n",
    "        "
   ]
  },
  {
   "cell_type": "code",
   "execution_count": null,
   "id": "475baf64-9249-4567-b67f-7021b6ece7c9",
   "metadata": {},
   "outputs": [],
   "source": [
    "import pandas as pd\n",
    "import matplotlib.pyplot as plt\n",
    "\n",
    "death_toll = pd.read_csv('covid_avg_deaths.csv')\n",
    "\n",
    "fig, axes = plt.subplots(nrows=4, ncols=1, figsize=(6,8))\n",
    "\n",
    "for ax in axes:\n",
    "    ax.plot(death_toll['Month'], death_toll['New_deaths'],\n",
    "            color='#af0b1e', alpha=0.1)\n",
    "    ax.set_yticklabels([])\n",
    "    ax.set_xticklabels([])\n",
    "    ax.tick_params(bottom=False, left=False) \n",
    "    for location in ['left', 'right', 'top', 'bottom']:\n",
    "        ax.spines[location].set_visible(False)\n",
    "        \n",
    "axes[0].plot(death_toll['Month'][:3], death_toll['New_deaths'][:3],\n",
    "         color='#af0b1e', linewidth=2.5)\n",
    "axes[1].plot(death_toll['Month'][2:6], death_toll['New_deaths'][2:6],\n",
    "         color='#af0b1e', linewidth=2.5)\n",
    "axes[2].plot(death_toll['Month'][5:10], death_toll['New_deaths'][5:10],\n",
    "         color='#af0b1e', linewidth=2.5)\n",
    "axes[3].plot(death_toll['Month'][9:12], death_toll['New_deaths'][9:12],\n",
    "         color='#af0b1e', linewidth=2.5)\n",
    "\n",
    "axes[0].text(0.5, -80, '0', alpha=0.5)\n",
    "axes[0].text(3.5, 2000, '1,844', alpha=0.5)\n",
    "axes[0].text(11.5, 2400, '2,247', alpha=0.5)\n",
    "\n",
    "axes[0].text(1.1, -300, 'Jan - Mar', color='#af0b1e',\n",
    "         weight='bold', rotation=3)\n",
    "axes[1].text(3.7, 800, 'Mar - Jun', color='#af0b1e', weight='bold')\n",
    "axes[2].text(7.1, 500, 'Jun - Oct', color='#af0b1e', weight='bold')\n",
    "axes[3].text(10.5, 600, 'Oct - Dec', color='#af0b1e', weight='bold',\n",
    "        rotation=45)\n",
    "axes[0].text(x=0.5, y= 3500, s='The virus kills 851 people each day', size=14, weight='bold')\n",
    "axes[0].text(x=0.5, y= 3150, s='Average number of daily deaths per month in the US', size=12)\n",
    "\n",
    "plt.show()\n",
    "        "
   ]
  },
  {
   "cell_type": "code",
   "execution_count": null,
   "id": "e4cea8cb-7c4b-4e07-b9e4-656532a00809",
   "metadata": {},
   "outputs": [],
   "source": [
    "import pandas as pd\n",
    "import matplotlib.pyplot as plt\n",
    "\n",
    "death_toll = pd.read_csv('covid_avg_deaths.csv')\n",
    "\n",
    "fig, axes = plt.subplots(nrows=4, ncols=1, figsize=(6,8))\n",
    "\n",
    "for ax in axes:\n",
    "    ax.plot(death_toll['Month'], death_toll['New_deaths'],\n",
    "            color='#af0b1e', alpha=0.1)\n",
    "    ax.set_yticklabels([])\n",
    "    ax.set_xticklabels([])\n",
    "    ax.tick_params(bottom=False, left=False) \n",
    "    for location in ['left', 'right', 'top', 'bottom']:\n",
    "        ax.spines[location].set_visible(False)\n",
    "        \n",
    "axes[0].plot(death_toll['Month'][:3], death_toll['New_deaths'][:3],\n",
    "         color='#af0b1e', linewidth=2.5)\n",
    "axes[1].plot(death_toll['Month'][2:6], death_toll['New_deaths'][2:6],\n",
    "         color='#af0b1e', linewidth=2.5)\n",
    "axes[2].plot(death_toll['Month'][5:10], death_toll['New_deaths'][5:10],\n",
    "         color='#af0b1e', linewidth=2.5)\n",
    "axes[3].plot(death_toll['Month'][9:12], death_toll['New_deaths'][9:12],\n",
    "         color='#af0b1e', linewidth=2.5)\n",
    "\n",
    "axes[0].text(0.5, -80, '0', alpha=0.5)\n",
    "axes[0].text(3.5, 2000, '1,844', alpha=0.5)\n",
    "axes[0].text(11.5, 2400, '2,247', alpha=0.5)\n",
    "\n",
    "axes[0].text(1.1, -300, 'Jan - Mar', color='#af0b1e',\n",
    "         weight='bold', rotation=3)\n",
    "axes[1].text(3.7, 800, 'Mar - Jun', color='#af0b1e', weight='bold')\n",
    "axes[2].text(7.1, 500, 'Jun - Oct', color='#af0b1e', weight='bold')\n",
    "axes[3].text(10.5, 600, 'Oct - Dec', color='#af0b1e', weight='bold',\n",
    "        rotation=45)\n",
    "\n",
    "axes[0].text(0.5, 3500, 'The virus kills 851 people each day',\n",
    "         size=14, weight='bold')\n",
    "axes[0].text(0.5, 3150, 'Average number of daily deaths per month in the US',size=12) \n",
    "axes[0].axhline(y=1600, xmin=0.5, xmax=0.8, linewidth=6, color='#af0b1e', alpha=0.1)\n",
    "axes[1].axhline(y=1600, xmin=0.5, xmax=0.8, linewidth=6, color='#af0b1e', alpha=0.1)\n",
    "axes[2].axhline(y=1600, xmin=0.5, xmax=0.8, linewidth=6, color='#af0b1e', alpha=0.1)\n",
    "axes[3].axhline(y=1600, xmin=0.5, xmax=0.8, linewidth=6, color='#af0b1e', alpha=0.1)\n",
    "plt.show()"
   ]
  },
  {
   "cell_type": "code",
   "execution_count": null,
   "id": "7e09c7ba-bf32-4efe-ada8-61160c9b57b2",
   "metadata": {},
   "outputs": [],
   "source": [
    "import pandas as pd\n",
    "red_wine = pd.read_csv('winequality-red.csv', sep=';')\n",
    "red_corr = red_wine.corr()['quality'][:-1]\n",
    "white_wine = pd.read_csv('winequality-white.csv', sep=';')\n",
    "white_corr = white_wine.corr()['quality'][:-1]"
   ]
  },
  {
   "cell_type": "code",
   "execution_count": null,
   "id": "e99f4646-9b5d-408d-9a3e-deff54705166",
   "metadata": {},
   "outputs": [],
   "source": [
    "style.use('fivethirtyeight')\n",
    "fig, ax = plt.subplots(figsize=(9, 5))\n",
    "ax.barh(white_corr.index, white_corr, left=2,linewidth=0.5, height=0.5)\n",
    "ax.barh(red_corr.index, red_corr,linewidth=0.5, height=0.5)\n",
    "ax.grid(visible=None)\n",
    "ax.set_xticks([])\n",
    "ax.set_yticks([])\n",
    "plt.show()"
   ]
  },
  {
   "cell_type": "code",
   "execution_count": null,
   "id": "c0d1d05b-c11c-4844-b5fc-e6859f0d0390",
   "metadata": {},
   "outputs": [],
   "source": [
    "style.use('fivethirtyeight')\n",
    "fig, ax = plt.subplots(figsize=(9, 5))\n",
    "ax.barh(white_corr.index, white_corr, left=2, height=0.5)\n",
    "ax.barh(red_corr.index, red_corr, height=0.5, left=-0.1)\n",
    "\n",
    "ax.grid(False)\n",
    "ax.set_yticklabels([])\n",
    "ax.set_xticklabels([])\n",
    "\n",
    "x_coords = {'Alcohol': 0.82, 'Sulphates': 0.77, 'pH': 0.91,\n",
    "            'Density': 0.80, 'Total Sulfur Dioxide': 0.59,\n",
    "            'Free Sulfur Dioxide': 0.6, 'Chlorides': 0.77,\n",
    "            'Residual Sugar': 0.67, 'Citric Acid': 0.76,\n",
    "            'Volatile Acidity': 0.67, 'Fixed Acidity': 0.71}\n",
    "y_coord = 9.8\n",
    "for y_label, x_coord in x_coords.items():\n",
    "    ax.text(x_coord, y_coord, y_label)\n",
    "    y_coord -= 1\n",
    "ax.axvline(x=0.5, ymin=0.1, ymax=0.9, linewidth=1, color='grey', alpha=0.1) \n",
    "ax.axvline(x=1.45, ymin=0.1, ymax=0.9, linewidth=1, color='grey', alpha=0.1)\n",
    "plt.show()"
   ]
  },
  {
   "cell_type": "code",
   "execution_count": null,
   "id": "930cfa32-ae43-41b0-a78d-30302619cf14",
   "metadata": {},
   "outputs": [],
   "source": [
    "style.use('fivethirtyeight')\n",
    "fig, ax = plt.subplots(figsize=(9, 5))\n",
    "ax.barh(white_corr.index, white_corr, left=2, height=0.5)\n",
    "ax.barh(red_corr.index, red_corr, height=0.5, left=-0.1)\n",
    "\n",
    "ax.grid(False)\n",
    "ax.set_yticklabels([])\n",
    "ax.set_xticklabels([])\n",
    "\n",
    "x_coords = {'Alcohol': 0.82, 'Sulphates': 0.77, 'pH': 0.91,\n",
    "            'Density': 0.80, 'Total Sulfur Dioxide': 0.59,\n",
    "            'Free Sulfur Dioxide': 0.6, 'Chlorides': 0.77,\n",
    "            'Residual Sugar': 0.67, 'Citric Acid': 0.76,\n",
    "            'Volatile Acidity': 0.67, 'Fixed Acidity': 0.71}\n",
    "y_coord = 9.8\n",
    "for y_label, x_coord in x_coords.items():\n",
    "    ax.text(x_coord, y_coord, y_label)\n",
    "    y_coord -= 1\n",
    "    \n",
    "ax.axvline(0.5, c='grey', alpha=0.1, linewidth=1,\n",
    "           ymin=0.1, ymax=0.9)\n",
    "ax.axvline(1.45, c='grey', alpha=0.1, linewidth=1,\n",
    "           ymin=0.1, ymax=0.9)\n",
    "\n",
    "ax.axhline(-1, color='grey', linewidth=1, alpha=0.5,\n",
    "          xmin=0.01, xmax=0.32)\n",
    "ax.text(-0.7, -1.7, '-0.5'+ ' '*31 + '+0.5',\n",
    "        color='grey', alpha=0.5)\n",
    "ax.axhline(-1, color='grey', linewidth=1, alpha=0.5,\n",
    "           xmin=0.67, xmax=0.98)\n",
    "ax.text(1.43, -1.7, '-0.5'+ ' '*31 + '+0.5',\n",
    "        color='grey', alpha=0.5)\n",
    "ax.axhline(y=11, xmin=0.01, xmax=0.32,linewidth=1, color='grey', alpha=0.5)\n",
    "ax.text(x=-0.33, y=11.2, weight='bold', s='RED WINE')\n",
    "ax.axhline(y=11, xmin=0.67, xmax=0.98, color='grey', linewidth=1, alpha=0.5)\n",
    "ax.text(x=1.75, y=11.2, weight='bold', s='WHITE WINE')\n",
    "plt.show()\n"
   ]
  },
  {
   "cell_type": "code",
   "execution_count": null,
   "id": "5c313699-af09-46a8-960e-91884ee6c959",
   "metadata": {},
   "outputs": [],
   "source": [
    "style.use('fivethirtyeight')\n",
    "\n",
    "fig, ax = plt.subplots(figsize=(9, 5))\n",
    "ax.barh(white_corr.index, white_corr, left=2, height=0.5)\n",
    "ax.barh(red_corr.index, red_corr, height=0.5, left=-0.1)\n",
    "\n",
    "ax.grid(False)\n",
    "ax.set_yticklabels([])\n",
    "ax.set_xticklabels([])\n",
    "\n",
    "x_coords = {'Alcohol': 0.82, 'Sulphates': 0.77, 'pH': 0.91,\n",
    "            'Density': 0.80, 'Total Sulfur Dioxide': 0.59,\n",
    "            'Free Sulfur Dioxide': 0.6, 'Chlorides': 0.77,\n",
    "            'Residual Sugar': 0.67, 'Citric Acid': 0.76,\n",
    "            'Volatile Acidity': 0.67, 'Fixed Acidity': 0.71}\n",
    "y_coord = 9.8\n",
    "for y_label, x_coord in x_coords.items():\n",
    "    ax.text(x_coord, y_coord, y_label)\n",
    "    y_coord -= 1\n",
    "    \n",
    "ax.axvline(0.5, c='grey', alpha=0.1, linewidth=1,\n",
    "           ymin=0.1, ymax=0.9)\n",
    "ax.axvline(1.45, c='grey', alpha=0.1, linewidth=1,\n",
    "           ymin=0.1, ymax=0.9)\n",
    "\n",
    "ax.axhline(-1, color='grey', linewidth=1, alpha=0.5,\n",
    "          xmin=0.01, xmax=0.32)\n",
    "ax.text(-0.7, -1.7, '-0.5'+ ' '*31 + '+0.5',\n",
    "        color='grey', alpha=0.5)\n",
    "ax.axhline(-1, color='grey', linewidth=1, alpha=0.5,\n",
    "           xmin=0.67, xmax=0.98)\n",
    "ax.text(1.43, -1.7, '-0.5'+ ' '*31 + '+0.5',\n",
    "        color='grey', alpha=0.5)\n",
    "\n",
    "ax.axhline(11, color='grey', linewidth=1, alpha=0.5,\n",
    "           xmin=0.01, xmax=0.32)\n",
    "ax.text(-0.33, 11.2, 'RED WINE', weight='bold')\n",
    "ax.axhline(11, color='grey', linewidth=1, alpha=0.5,\n",
    "           xmin=0.67, xmax=0.98)\n",
    "ax.text(1.75, 11.2, 'WHITE WINE', weight='bold')\n",
    "\n",
    "ax.text(-0.7, -2.9,\n",
    "        'DATAQUEST' + ' '*94 + 'Source: P. Cortez et al.',\n",
    "        color = '#f0f0f0', backgroundcolor = '#4d4d4d',\n",
    "        fontsize=12)\n",
    "ax.text(-0.7, 13.5,'Wine Quality Most Strongly Correlated With Alcohol Level', fontsize=17, weight='bold')\n",
    "ax.text(-0.7, 12.7,'Correlation values between wine quality and wine properties (alcohol, pH, etc.)')\n",
    "plt.show()"
   ]
  },
  {
   "cell_type": "code",
   "execution_count": null,
   "id": "c98a05db-79cb-472f-afca-e0ca67d90ba9",
   "metadata": {},
   "outputs": [],
   "source": [
    "positive_white = white_corr >= 0\n",
    "color_map_white = positive_white.map({True:'#33A1C9', False:'#ffae42'})\n",
    "\n",
    "style.use('fivethirtyeight')\n",
    "fig, ax = plt.subplots(figsize=(9, 5))\n",
    "ax.barh(white_corr.index, white_corr, left=2, height=0.5,\n",
    "        color=color_map_white)\n",
    "ax.barh(red_corr.index, red_corr, height=0.5, left=-0.1)\n",
    "\n",
    "ax.grid(False)\n",
    "ax.set_yticklabels([])\n",
    "ax.set_xticklabels([])\n",
    "\n",
    "x_coords = {'Alcohol': 0.82, 'Sulphates': 0.77, 'pH': 0.91,\n",
    "            'Density': 0.80, 'Total Sulfur Dioxide': 0.59,\n",
    "            'Free Sulfur Dioxide': 0.6, 'Chlorides': 0.77,\n",
    "            'Residual Sugar': 0.67, 'Citric Acid': 0.76,\n",
    "            'Volatile Acidity': 0.67, 'Fixed Acidity': 0.71}\n",
    "y_coord = 9.8\n",
    "\n",
    "for y_label, x_coord in x_coords.items():\n",
    "    ax.text(x_coord, y_coord, y_label)\n",
    "    y_coord -= 1\n",
    "    \n",
    "ax.axvline(0.5, c='grey', alpha=0.1, linewidth=1,\n",
    "           ymin=0.1, ymax=0.9)\n",
    "ax.axvline(1.45, c='grey', alpha=0.1, linewidth=1,\n",
    "           ymin=0.1, ymax=0.9)\n",
    "\n",
    "ax.axhline(-1, color='grey', linewidth=1, alpha=0.5,\n",
    "          xmin=0.01, xmax=0.32)\n",
    "ax.text(-0.7, -1.7, '-0.5'+ ' '*31 + '+0.5',\n",
    "        color='grey', alpha=0.5)\n",
    "\n",
    "ax.axhline(-1, color='grey', linewidth=1, alpha=0.5,\n",
    "           xmin=0.67, xmax=0.98)\n",
    "ax.text(1.43, -1.7, '-0.5'+ ' '*31 + '+0.5',\n",
    "        color='grey', alpha=0.5)\n",
    "\n",
    "ax.axhline(11, color='grey', linewidth=1, alpha=0.5,\n",
    "          xmin=0.01, xmax=0.32)\n",
    "ax.text(-0.33, 11.2, 'RED WINE', weight='bold')\n",
    "\n",
    "ax.axhline(11, color='grey', linewidth=1, alpha=0.5,\n",
    "          xmin=0.67, xmax=0.98)\n",
    "ax.text(1.75, 11.2, 'WHITE WINE', weight='bold')\n",
    "\n",
    "ax.text(-0.7, -2.9, 'DATAQUEST' + ' '*92 + 'Source: P. Cortez et al.',\n",
    "        color = '#f0f0f0', backgroundcolor = '#4d4d4d',\n",
    "       fontsize=12)\n",
    "\n",
    "ax.text(-0.7, 13.5,\n",
    "        'Wine Quality Most Strongly Correlated With Alcohol Level',\n",
    "        fontsize=17, weight='bold')\n",
    "ax.text(-0.7, 12.7,\n",
    "        'Correlation values between wine quality and wine properties (alcohol, pH, etc.)')\n",
    "positive_red = red_corr >= 0\n",
    "color_map_red = positive_red.map({True:'#33A1C9', False:'#ffae42'})\n",
    "ax.barh(red_corr.index, red_corr, height=0.5, left=-0.1,\n",
    "        color=color_map_red)\n",
    "plt.show()\n"
   ]
  },
  {
   "cell_type": "code",
   "execution_count": null,
   "id": "8dd3d75e-d23d-4386-89d6-ca15421f85ee",
   "metadata": {},
   "outputs": [],
   "source": [
    "import pandas as pd\n",
    "wnba = pd.read_csv('wnba.csv')\n",
    "print(wnba.head(5))\n",
    "print(wnba.tail(5))\n",
    "print(wnba.shape)\n",
    "parameter = wnba['Games Played'].max()\n",
    "sample = wnba.sample(30,random_state = 1)\n",
    "statistic = sample['Games Played'].max()\n",
    "sampling_error = parameter - statistic"
   ]
  },
  {
   "cell_type": "code",
   "execution_count": 77,
   "id": "cf22b416-23bc-4b64-833c-84745c965f99",
   "metadata": {},
   "outputs": [
    {
     "data": {
      "text/plain": [
       "[1,\n",
       " 2,\n",
       " 3,\n",
       " 4,\n",
       " 5,\n",
       " 6,\n",
       " 7,\n",
       " 8,\n",
       " 9,\n",
       " 10,\n",
       " 11,\n",
       " 12,\n",
       " 13,\n",
       " 14,\n",
       " 15,\n",
       " 16,\n",
       " 17,\n",
       " 18,\n",
       " 19,\n",
       " 20,\n",
       " 21,\n",
       " 22,\n",
       " 23,\n",
       " 24,\n",
       " 25,\n",
       " 26,\n",
       " 27,\n",
       " 28,\n",
       " 29,\n",
       " 30,\n",
       " 31,\n",
       " 32,\n",
       " 33,\n",
       " 34,\n",
       " 35,\n",
       " 36,\n",
       " 37,\n",
       " 38,\n",
       " 39,\n",
       " 40,\n",
       " 41,\n",
       " 42,\n",
       " 43,\n",
       " 44,\n",
       " 45,\n",
       " 46,\n",
       " 47,\n",
       " 48,\n",
       " 49,\n",
       " 50,\n",
       " 51,\n",
       " 52,\n",
       " 53,\n",
       " 54,\n",
       " 55,\n",
       " 56,\n",
       " 57,\n",
       " 58,\n",
       " 59,\n",
       " 60,\n",
       " 61,\n",
       " 62,\n",
       " 63,\n",
       " 64,\n",
       " 65,\n",
       " 66,\n",
       " 67,\n",
       " 68,\n",
       " 69,\n",
       " 70,\n",
       " 71,\n",
       " 72,\n",
       " 73,\n",
       " 74,\n",
       " 75,\n",
       " 76,\n",
       " 77,\n",
       " 78,\n",
       " 79,\n",
       " 80,\n",
       " 81,\n",
       " 82,\n",
       " 83,\n",
       " 84,\n",
       " 85,\n",
       " 86,\n",
       " 87,\n",
       " 88,\n",
       " 89,\n",
       " 90,\n",
       " 91,\n",
       " 92,\n",
       " 93,\n",
       " 94,\n",
       " 95,\n",
       " 96,\n",
       " 97,\n",
       " 98,\n",
       " 99]"
      ]
     },
     "execution_count": 77,
     "metadata": {},
     "output_type": "execute_result"
    }
   ],
   "source": [
    "list(range(1,100))"
   ]
  },
  {
   "cell_type": "code",
   "execution_count": null,
   "id": "3febd2af-79c6-4e82-b3ac-e2a6dfc34e7b",
   "metadata": {},
   "outputs": [],
   "source": [
    "import pandas as pd\n",
    "import matplotlib.pyplot as plt\n",
    "\n",
    "wnba = pd.read_csv('wnba.csv')\n",
    "parameter = wnba['PTS'].mean()\n",
    "statistic = wnba['PTS'].mean()\n",
    "list_1=[]\n",
    "for i in range(100):\n",
    "    list_1.append(wnba['PTS'].sample(10,random_state=i).mean())  \n",
    "plt.scatter(x=range(1,101), y=list_1)\n",
    "plt.axhline(parameter)\n",
    "plt.show()\n",
    "    "
   ]
  },
  {
   "cell_type": "code",
   "execution_count": null,
   "id": "639aeb54-83c0-47c6-a878-84fe0a94460d",
   "metadata": {},
   "outputs": [],
   "source": [
    "wnba[\"Pts_per_game\"] = wnba[\"PTS\"] / wnba[\"Games Played\"]\n",
    "stratum_G = wnba[wnba.Pos == 'G']\n",
    "stratum_F = wnba[wnba.Pos == 'F']\n",
    "stratum_C = wnba[wnba.Pos == 'C']\n",
    "stratum_GF = wnba[wnba.Pos == 'G/F']\n",
    "stratum_FC = wnba[wnba.Pos == 'F/C']\n",
    "points_per_position = {}\n",
    "\n",
    "for stratum, position in [(stratum_G, 'G'), (stratum_F, 'F'), (stratum_C, 'C'),\n",
    "                (stratum_GF, 'G/F'), (stratum_FC, 'F/C')]:\n",
    "    sample = stratum['Pts_per_game'].sample(10, random_state = 0) \n",
    "    points_per_position[position] = sample.mean()\n",
    "position_most_points = max(points_per_position, key = points_per_position.get)    \n",
    "    "
   ]
  },
  {
   "cell_type": "code",
   "execution_count": null,
   "id": "59394e48-b03e-4c82-83fb-ac79c831a8aa",
   "metadata": {},
   "outputs": [],
   "source": [
    "wnba[\"Pts_per_game\"] = wnba[\"PTS\"] / wnba[\"Games Played\"]\n",
    "stratum_G = wnba[wnba.Pos == 'G']\n",
    "stratum_F = wnba[wnba.Pos == 'F']\n",
    "stratum_C = wnba[wnba.Pos == 'C']\n",
    "stratum_GF = wnba[wnba.Pos == 'G/F']\n",
    "stratum_FC = wnba[wnba.Pos == 'F/C']\n",
    "points_per_position = {}\n",
    "\n",
    "for stratum, position in [(stratum_G, 'G'), (stratum_F, 'F'), (stratum_C, 'C'),\n",
    "                (stratum_GF, 'G/F'), (stratum_FC, 'F/C')]:\n",
    "    sample = stratum['Pts_per_game'].sample(10, random_state = 0) \n",
    "    points_per_position[position] = sample.mean()\n",
    "position_most_points = max(points_per_position, key = points_per_position.get)    \n",
    "    "
   ]
  },
  {
   "cell_type": "code",
   "execution_count": null,
   "id": "b6c96da0-32fe-43a9-842d-50fe52d854d9",
   "metadata": {},
   "outputs": [],
   "source": [
    "under_12 = wnba[wnba['Games Played'] <= 12]\n",
    "btw_13_22 = wnba[(wnba['Games Played'] > 12) & (wnba['Games Played'] <= 22)]\n",
    "over_23 = wnba[wnba['Games Played'] > 22]\n",
    "proportional_sampling_means = []\n",
    "for i in range(100):\n",
    "    sample_under_12 = under_12['PTS'].sample(1, random_state = i)\n",
    "    sample_btw_13_22 = btw_13_22['PTS'].sample(2, random_state = i)\n",
    "    sample_over_23 = over_23['PTS'].sample(7, random_state = i)\n",
    "\n",
    "    final_sample = pd.concat([sample_under_12, sample_btw_13_22, sample_over_23])\n",
    "\n",
    "    proportional_sampling_means.append(final_sample.mean())\n",
    "\n",
    "plt.scatter(range(1,101), proportional_sampling_means)\n",
    "plt.axhline(wnba['PTS'].mean())\n",
    "plt.show()\n"
   ]
  },
  {
   "cell_type": "code",
   "execution_count": null,
   "id": "56e19e56-5861-4aeb-a5d8-05c97d208fa8",
   "metadata": {},
   "outputs": [],
   "source": [
    "under_12 = wnba[wnba['Games Played'] <= 12]\n",
    "btw_13_22 = wnba[(wnba['Games Played'] > 12) & (wnba['Games Played'] <= 22)]\n",
    "over_23 = wnba[wnba['Games Played'] > 22]\n",
    "proportional_sampling_means = []\n",
    "for i in range(100):\n",
    "    sample_under_12 = under_12['PTS'].sample(1, random_state = i)\n",
    "    sample_btw_13_22 = btw_13_22['PTS'].sample(2, random_state = i)\n",
    "    sample_over_23 = over_23['PTS'].sample(7, random_state = i)\n",
    "\n",
    "    final_sample = pd.concat([sample_under_12, sample_btw_13_22, sample_over_23])\n",
    "\n",
    "    proportional_sampling_means.append(final_sample.mean())\n",
    "\n",
    "plt.scatter(range(1,101), proportional_sampling_means)\n",
    "plt.axhline(wnba['PTS'].mean())\n",
    "plt.show()\n"
   ]
  },
  {
   "cell_type": "code",
   "execution_count": null,
   "id": "97084d7b-55a9-4c8e-aed4-745a473d2ed8",
   "metadata": {},
   "outputs": [],
   "source": [
    "import pandas as pd\n",
    "wnba = pd.read_csv('wnba.csv')\n",
    "\n",
    "variables = {'Name': '', 'Team': '', 'Pos': '', 'Height': '', 'BMI': '',\n",
    "             'Birth_Place': '', 'Birthdate': '', 'Age': '', 'College': '', 'Experience': '',\n",
    "             'Games Played': '', 'MIN': '', 'FGM': '', 'FGA': '',\n",
    "             '3PA': '', 'FTM': '', 'FTA': '', 'FT%': '', 'OREB': '', 'DREB': '',\n",
    "             'REB': '', 'AST': '', 'PTS': ''}"
   ]
  },
  {
   "cell_type": "code",
   "execution_count": null,
   "id": "5a75de31-1d75-4b0c-ae1b-5235d536fc21",
   "metadata": {},
   "outputs": [],
   "source": []
  },
  {
   "cell_type": "code",
   "execution_count": null,
   "id": "21c837c8-24c2-4abf-82f8-39cae6250db3",
   "metadata": {},
   "outputs": [],
   "source": []
  }
 ],
 "metadata": {
  "kernelspec": {
   "display_name": "Python 3 (ipykernel)",
   "language": "python",
   "name": "python3"
  },
  "language_info": {
   "codemirror_mode": {
    "name": "ipython",
    "version": 3
   },
   "file_extension": ".py",
   "mimetype": "text/x-python",
   "name": "python",
   "nbconvert_exporter": "python",
   "pygments_lexer": "ipython3",
   "version": "3.12.4"
  }
 },
 "nbformat": 4,
 "nbformat_minor": 5
}
