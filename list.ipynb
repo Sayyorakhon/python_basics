{
 "cells": [
  {
   "cell_type": "code",
   "execution_count": 23,
   "id": "b15cade8-b779-4c54-8f7b-d554f74dc33a",
   "metadata": {},
   "outputs": [
    {
     "name": "stdout",
     "output_type": "stream",
     "text": [
      "The list is empty\n",
      "The list is empty\n"
     ]
    }
   ],
   "source": [
    "my_list = [1, 2, 3]\n",
    "\n",
    "if len(my_list) > 0:\n",
    "\n",
    "    print(\"The list is not empty\")\n",
    "\n",
    "else:\n",
    "\n",
    "    print(\"The list is empty\")\n",
    "\n",
    "if my_list & my_list[0]==1 :\n",
    "\n",
    "\n",
    "    print(\"The list is not empty\")\n",
    "\n",
    "else:\n",
    "\n",
    "    print(\"The list is empty\")\n",
    "\n"
   ]
  },
  {
   "cell_type": "code",
   "execution_count": 3,
   "id": "053ed0be-52b2-485a-b7ef-3e59a0bef265",
   "metadata": {},
   "outputs": [
    {
     "name": "stdout",
     "output_type": "stream",
     "text": [
      "2 is in the list\n"
     ]
    }
   ],
   "source": [
    "my_list = [1, 2, 3]\n",
    "\n",
    "if 2 in my_list:\n",
    "\n",
    "    print(\"2 is in the list\")\n",
    "\n",
    "else:\n",
    "\n",
    "    print(\"2 is not in the list\")"
   ]
  },
  {
   "cell_type": "code",
   "execution_count": 5,
   "id": "1317e874-53f9-4376-a03f-5df48fea2fb1",
   "metadata": {},
   "outputs": [
    {
     "name": "stdout",
     "output_type": "stream",
     "text": [
      "4 is not in the list\n"
     ]
    }
   ],
   "source": [
    "my_list = [1, 2, 3]\n",
    "\n",
    "if 4 not in my_list:\n",
    "\n",
    "    print(\"4 is not in the list\")\n",
    "\n",
    "else:\n",
    "\n",
    "    print(\"4 is in the list\")"
   ]
  },
  {
   "cell_type": "code",
   "execution_count": 29,
   "id": "0970c85e-d54c-43db-bde0-9855ae72eab4",
   "metadata": {},
   "outputs": [
    {
     "name": "stdout",
     "output_type": "stream",
     "text": [
      "6\n",
      "7\n",
      "4\n",
      "3\n"
     ]
    }
   ],
   "source": [
    "my_list = [6,7,4,3]\n",
    "\n",
    "for i in range(len(my_list)):\n",
    "    print(my_list[i])"
   ]
  },
  {
   "cell_type": "code",
   "execution_count": 31,
   "id": "04f24b54-3dfb-49e9-9e83-15c57261bdc1",
   "metadata": {},
   "outputs": [
    {
     "name": "stdout",
     "output_type": "stream",
     "text": [
      "1\n",
      "2\n",
      "3\n",
      "4\n",
      "5\n"
     ]
    }
   ],
   "source": [
    "my_list = [1, 2, 3, 4, 5]\n",
    "\n",
    "for element in my_list:\n",
    "\n",
    "    print(element)"
   ]
  },
  {
   "cell_type": "code",
   "execution_count": 33,
   "id": "52efa68f-561b-4a33-a258-a91309c10de6",
   "metadata": {},
   "outputs": [
    {
     "name": "stdout",
     "output_type": "stream",
     "text": [
      "(9, 8)\n"
     ]
    }
   ],
   "source": [
    "my_tuple = (7, 9, 8)\n",
    "\n",
    "print(my_tuple[1:])"
   ]
  },
  {
   "cell_type": "code",
   "execution_count": 35,
   "id": "8d194277-f70e-409a-a988-b2b93a2c8aae",
   "metadata": {},
   "outputs": [
    {
     "name": "stdout",
     "output_type": "stream",
     "text": [
      "7\n",
      "5\n",
      "1\n",
      "6\n"
     ]
    }
   ],
   "source": [
    "my_list = [1, 7, 5, 4, 3, 2]\n",
    "print(my_list[1])\n",
    "print(my_list[2])\n",
    "print(my_list[0])\n",
    "print(len(my_list))"
   ]
  },
  {
   "cell_type": "code",
   "execution_count": null,
   "id": "c0c9a19a-f7b5-4564-b35a-87c98ab5b20a",
   "metadata": {},
   "outputs": [],
   "source": []
  }
 ],
 "metadata": {
  "kernelspec": {
   "display_name": "Python 3 (ipykernel)",
   "language": "python",
   "name": "python3"
  },
  "language_info": {
   "codemirror_mode": {
    "name": "ipython",
    "version": 3
   },
   "file_extension": ".py",
   "mimetype": "text/x-python",
   "name": "python",
   "nbconvert_exporter": "python",
   "pygments_lexer": "ipython3",
   "version": "3.12.4"
  }
 },
 "nbformat": 4,
 "nbformat_minor": 5
}
